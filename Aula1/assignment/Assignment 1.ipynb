{
 "cells": [
  {
   "cell_type": "markdown",
   "metadata": {},
   "source": [
    "# Assignment 1 - kNN - Curso de Ciência de Dados"
   ]
  },
  {
   "cell_type": "markdown",
   "metadata": {},
   "source": [
    "_Feito por: [Dora](https://github.com/joaopedromattos)_"
   ]
  },
  {
   "cell_type": "markdown",
   "metadata": {},
   "source": [
    "Seja muito bem-vindo ao seu primeiro dever de casa de Ciência de Dados.\n",
    "\n",
    "Neste _notebook_ você aprenderá a dar seus primeiros passos dentro do _pipeline_ de um projeto de Ciência de Dados!\n",
    "\n",
    "Conteúdos abordados nessa lição:\n",
    "- Sintaxe Python;\n",
    "- Numpy, Jupyter e Matplotlib;\n",
    "- Coleta do *dataset*;\n",
    "- Pré-processamento;\n",
    "- Construção do modelo;\n",
    "- *Fine-tunning*;\n"
   ]
  },
  {
   "cell_type": "code",
   "execution_count": 1,
   "metadata": {},
   "outputs": [],
   "source": [
    "# Tomamos a liberdade de importar para você tudo aquilo que voce usara no seu trabalho! \n",
    "# Lembre-se de ter tudo instalado!\n",
    "import numpy as np\n",
    "import matplotlib.pyplot as plt\n",
    "from sklearn import datasets\n",
    "from sklearn.model_selection import train_test_split\n",
    "from kNN import KNearestNeighbor\n",
    "\n",
    "# Essas linhas sao apenas configuracoes de plotting. Elas nao sao importantes para o seu aprendizado,\n",
    "# entao as trataremos como \"magica\" por agora, ok?\n",
    "%matplotlib inline\n",
    "plt.rcParams['figure.figsize'] = (10.0, 8.0) # set default size of plots\n",
    "plt.rcParams['image.interpolation'] = 'nearest'\n",
    "plt.rcParams['image.cmap'] = 'gray'\n",
    "\n",
    "# Abaixo encontram-se os hiperparametros do modelo que sera construido.\n",
    "# A nao ser que seja instruido, voce nao deve modifica-los\n",
    "TRAIN_TEST_SPLIT_SIZE = 0.2 # Define que o TESTE correspondera a 20% do total do dataset\n",
    "K = 1 # Define o numero de vizinhos a partir dos quais realizaremos a votacao do kNN"
   ]
  },
  {
   "cell_type": "markdown",
   "metadata": {},
   "source": [
    "## Primeiros passos: Carregando o dataset\n",
    "\n",
    "Ao executar a célula abaixo, você carregará o *mnist*, o *dataset* utilizado nessa lição."
   ]
  },
  {
   "cell_type": "code",
   "execution_count": 2,
   "metadata": {},
   "outputs": [
    {
     "name": "stdout",
     "output_type": "stream",
     "text": [
      "O dataset possui 1797  imagens.\n"
     ]
    },
    {
     "data": {
      "text/plain": [
       "<matplotlib.image.AxesImage at 0x7fda22cd2d90>"
      ]
     },
     "execution_count": 2,
     "metadata": {},
     "output_type": "execute_result"
    },
    {
     "data": {
      "image/png": "[encoded data removed]",
      "text/plain": [
       "<Figure size 720x576 with 1 Axes>"
      ]
     },
     "metadata": {
      "needs_background": "light"
     },
     "output_type": "display_data"
    }
   ],
   "source": [
    "dataset = datasets.load_digits()\n",
    "\n",
    "datasetSize = len(dataset.images)\n",
    "print(\"O dataset possui\", datasetSize, \" imagens.\")\n",
    "\n",
    "# Mostraremos uma imagem aleatoria dentro do dataset\n",
    "plt.imshow(dataset.images[np.random.randint(datasetSize)])"
   ]
  },
  {
   "cell_type": "markdown",
   "metadata": {},
   "source": [
    "Como mencionado em aula, dentro do aprendizado supervisionado, precisamos realizar uma divisão dos dados entre dois conjuntos distintos, os quais serão chamados de **treino** e **teste**."
   ]
  },
  {
   "cell_type": "code",
   "execution_count": 11,
   "metadata": {},
   "outputs": [
    {
     "name": "stdout",
     "output_type": "stream",
     "text": [
      "Train shapes - X = (1437, 64)  y = (1437,)\n",
      "Test shapes - X = (360, 64)  y = (360,)\n"
     ]
    }
   ],
   "source": [
    "X_train, X_test, y_train, y_test = train_test_split(dataset.data, dataset.target, test_size=TRAIN_TEST_SPLIT_SIZE)\n",
    "\n",
    "print(\"Train shapes - X =\", X_train.shape,\" y =\", y_train.shape)\n",
    "print(\"Test shapes - X =\", X_test.shape,\" y =\", y_test.shape)"
   ]
  },
  {
   "cell_type": "code",
   "execution_count": 12,
   "metadata": {},
   "outputs": [
    {
     "name": "stdout",
     "output_type": "stream",
     "text": [
      "Train format:  (1437, 64)\n",
      "Train format:  (1437,)\n"
     ]
    }
   ],
   "source": [
    "# Inicializando o classificador kNN e alimentando com os dados do treino...\n",
    "kNN = KNearestNeighbor()\n",
    "kNN.train(X_train, y_train)"
   ]
  },
  {
   "cell_type": "markdown",
   "metadata": {},
   "source": [
    "## Implementando o kNN\n",
    "Agora que possuímos nossos dados, podemos implementar nosso modelo, o kNN(K-Nearest Neighbor).\n",
    "\n",
    "Neste dever de casa, propomos 3 implementações diferentes do mesmo modelo, sendo a última um desafio!\n",
    "\n",
    "Vamos por partes! Começemos pela versão mais simples (e ineficiente) do kNN. Acesse o arquivo ```kNN.py``` e vá até o método ```compute_distances_two_loops```. Nela, você deve calcular o kNN com dois loops aninhados, um que itera por todos os dados do conjunto de teste e outro que itera no conjunto de treino. Quando terminar, volte aqui e execute a célula abaixo. Boa sorte!\n"
   ]
  },
  {
   "cell_type": "code",
   "execution_count": null,
   "metadata": {},
   "outputs": [],
   "source": [
    "dists = kNN.compute_distances_two_loops(X_test)\n",
    "print(dists.shape)"
   ]
  },
  {
   "cell_type": "code",
   "execution_count": null,
   "metadata": {},
   "outputs": [],
   "source": [
    "plt.imshow(dists, interpolation='none')\n",
    "plt.ylabel(\"Exemplos do teste\")\n",
    "plt.xlabel(\"Exemplos do treino\")\n",
    "plt.title(\"Visualização 'treino X teste'\")\n",
    "plt.show()"
   ]
  },
  {
   "cell_type": "markdown",
   "metadata": {},
   "source": [
    "Na imagem acima, quanto mais escura um ponto, menor é o valor da distância. A partir disso, tente refletir por algum tempo sobre o que significaria caso houvesse uma linha completamente branca ou uma coluna completamente branca no gráfico."
   ]
  },
  {
   "cell_type": "markdown",
   "metadata": {},
   "source": [
    "## Precisão da classificação\n",
    "\n",
    "Agora que já computamos as distâncias, você precisa finalizar o processo de classficação através da inferência de cada um dos itens do teste. Vá até a função ```predict_labels``` no ```kNN.py``` e implemente o processo de classficação do kNN como visto em sala de aula. Confira o material disponibilizado ou entre em contato com os ministrantes caso ainda restem dúvidas! Boa sorte!"
   ]
  },
  {
   "cell_type": "code",
   "execution_count": null,
   "metadata": {},
   "outputs": [],
   "source": [
    "y_test_pred = kNN.predict_labels(dists, k=1)\n",
    "num_correct = np.sum(y_test_pred == y_test)\n",
    "accuracy = float(num_correct) / len(y_test)\n",
    "print('Precisão %d / %d => %f' % (num_correct, len(y_test), accuracy))\n"
   ]
  },
  {
   "cell_type": "markdown",
   "metadata": {},
   "source": [
    "Antes de finalizar o *homework*, experimente diversos valores para o hiperparâmetro \"k\"."
   ]
  },
  {
   "cell_type": "markdown",
   "metadata": {},
   "source": [
    "Excelente! Você chegou ao fim do homework! Esperamos que você tenha aprendido muito com este dever de casa!\n",
    "Em caso de dúvidas, fique à vontade para falar com o ministrante da aula, João Pedro R. Mattos através do email (joao_pedro_mattos@hotmail.com) ou do Telegram (@joaopedromattos)."
   ]
  }
 ],
 "metadata": {
  "kernelspec": {
   "display_name": "Python 3",
   "language": "python",
   "name": "python3"
  },
  "language_info": {
   "codemirror_mode": {
    "name": "ipython",
    "version": 3
   },
   "file_extension": ".py",
   "mimetype": "text/x-python",
   "name": "python",
   "nbconvert_exporter": "python",
   "pygments_lexer": "ipython3",
   "version": "3.7.6"
  }
 },
 "nbformat": 4,
 "nbformat_minor": 2
}
