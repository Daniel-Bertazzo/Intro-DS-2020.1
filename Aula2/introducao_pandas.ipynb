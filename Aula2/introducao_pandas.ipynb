{
 "cells": [
  {
   "cell_type": "markdown",
   "metadata": {},
   "source": [
    "# Introdução a Pandas"
   ]
  },
  {
   "cell_type": "markdown",
   "metadata": {},
   "source": [
    "Nessa aula (ou melhor, notebook ~~valeu Corona~~ ) vamos falar um pouco sobre a biblioteca Pandas, sobre como utilizá-la e como fazer as primeiras análises.  "
   ]
  },
  {
   "cell_type": "markdown",
   "metadata": {},
   "source": [
    "## Sumário\n",
    "\n",
    "- [Extras de Jupyter](#Extras-de-Jupyter)\n",
    "- [O que é Pandas](#O-que-é-Pandas?) \n",
    "- [Setup Inicial](#Setup-Inicial?)\n",
    "- [Mãos à Obra](#Mãos-à-obra!)\n",
    "    - [Importando a Biblioteca](#Importando-a-biblioteca)\n",
    "    - [Tipos de Estruturas](#Tipos-de-estruturas)\n",
    "    - [Leitura de dados](#Leitura-de-dados)\n",
    "    - [Visualização do Dataframe](#Visualização-do-Dataframe)\n",
    "    - [Seleção dos Dados](#Seleção-dos-dados)\n",
    "    - [Indexação booleana](#Indexação-booleana)\n",
    "    - [Operações](#Operações)\n",
    "    - [Apply](#Apply)\n",
    "    - [Funções Úteis](#Funções-Úteis)\n",
    "    - [Dados Faltantes](#Dados-faltantes)\n",
    "    - [Plot](#Plot)\n",
    "    - [Exportação](#Exportação)\n",
    "- [Exercícios](#Exercícios)\n",
    "- [Conclusão](#Conclusão)\n",
    "- [Referências](#Referências)\n",
    "- [Dúvidas?](#Dúvidas?)"
   ]
  },
  {
   "cell_type": "markdown",
   "metadata": {},
   "source": [
    "## Extras de Jupyter\n",
    "\n",
    "Já vimos um pouco sobre o que é e como utilizar um Jupyter Notebook, mas esta é uma ferramenta muito poderosa e interessante, então vejamos mais algumas possibilidades legais que ela nos oferece:\n",
    "\n",
    "- %%time: calcula o tempo de execução de uma célula, para utilizar essa função basta inserir *%%time* no início de uma célula.\n",
    "- ??: sabe quando você quer usar uma função, mas não lembra os parâmetros? É para isso que serve o *??*. Escrevendo as duas interrogações antes de uma função, ficará visível sua documentação no próprio jupyter!\n",
    "- ?: uma única interrogação é utilizada para obter informações sobre uma variável.\n",
    "\n",
    "Os comandos acima podem ser usados assim:"
   ]
  },
  {
   "cell_type": "code",
   "execution_count": 2,
   "metadata": {},
   "outputs": [],
   "source": [
    "# informações sobre a função range, que vamos usar logo mais\n",
    "??range"
   ]
  },
  {
   "cell_type": "code",
   "execution_count": 1,
   "metadata": {},
   "outputs": [
    {
     "name": "stdout",
     "output_type": "stream",
     "text": [
      "CPU times: user 93 µs, sys: 8 µs, total: 101 µs\n",
      "Wall time: 103 µs\n"
     ]
    }
   ],
   "source": [
    "%%time\n",
    "# calculando o tempo de execução do laço de repetição que utiliza o range e altera a variável soma\n",
    "\n",
    "soma = 0\n",
    "for i in range(1000):\n",
    "    soma += i"
   ]
  },
  {
   "cell_type": "code",
   "execution_count": 3,
   "metadata": {},
   "outputs": [],
   "source": [
    "# informações sobre a variável soma\n",
    "?soma"
   ]
  },
  {
   "cell_type": "markdown",
   "metadata": {},
   "source": [
    "## O que é Pandas?\n",
    "Pandas é uma biblioteca Python. Ela permite que façamos uma série de manipulações e análises de dados de forma simples e eficiente."
   ]
  },
  {
   "cell_type": "markdown",
   "metadata": {},
   "source": [
    "## Setup Inicial\n",
    "Assim como boa parte das bibliotecas, é preciso instalar Pandas no seu computador. Isso vai depender um pouco do seu Sistema Operacional, por isso recomendo seguirem os [tutoriais de instalação](https://pandas.pydata.org/pandas-docs/stable/getting_started/install.html).  \n",
    "\n",
    "Além disso, para que esse notebook funcione adequadamente é preciso que seja feito o download e a extração desse [aquivo](https://www.kaggle.com/sudalairajkumar/novel-corona-virus-2019-dataset)  e que ele se encontre na mesma pasta do arquivo desse notebook."
   ]
  },
  {
   "cell_type": "markdown",
   "metadata": {},
   "source": [
    "## Mãos à obra!"
   ]
  },
  {
   "cell_type": "markdown",
   "metadata": {},
   "source": [
    "### Importando a biblioteca\n",
    "O primeiro passo é importar a biblioteca. Para isso, utilizamos o comando abaixo. "
   ]
  },
  {
   "cell_type": "code",
   "execution_count": 2,
   "metadata": {},
   "outputs": [],
   "source": [
    "import pandas as pd"
   ]
  },
  {
   "cell_type": "markdown",
   "metadata": {},
   "source": [
    "### Tipos de estruturas\n",
    "Existem basicamente dois tipos de estruturas de dados em Pandas: as Series e os Dataframes."
   ]
  },
  {
   "cell_type": "markdown",
   "metadata": {},
   "source": [
    "Uma **Serie** é como uma lista, ou um array unidimensional. Ela é capaz de armazenar diversos tipos de dados (inteiros, strings, floats, objetos....), mas é preciso que os dados de uma Serie sejam todos de um mesmo tipo, ao contrário de uma lista normal que permite misturas. Podemos criar uma serie passando uma lista de valores para a função que a gera:\n"
   ]
  },
  {
   "cell_type": "code",
   "execution_count": 3,
   "metadata": {},
   "outputs": [
    {
     "data": {
      "text/plain": [
       "0    10\n",
       "1     9\n",
       "2     9\n",
       "3     4\n",
       "4     5\n",
       "5     7\n",
       "dtype: int64"
      ]
     },
     "execution_count": 3,
     "metadata": {},
     "output_type": "execute_result"
    }
   ],
   "source": [
    "quantidades = pd.Series([10, 9, 9, 4, 5, 7])\n",
    "\n",
    "quantidades"
   ]
  },
  {
   "cell_type": "markdown",
   "metadata": {},
   "source": [
    "Falamos acima que uma Serie é um array unidimensional, então por que vemos duas colunas ao imprimir Notas?\n",
    "\n",
    "Bom, isso acontece pois a Serie possui uma coluna de Index, ou seja, uma coluna de rótulos para os seus elementos. Dessa forma, podemos definir nossos próprios indices para uma Serie:"
   ]
  },
  {
   "cell_type": "code",
   "execution_count": 4,
   "metadata": {},
   "outputs": [
    {
     "data": {
      "text/plain": [
       "Maçã       10\n",
       "Banana      9\n",
       "Pera        9\n",
       "Uva         4\n",
       "Mamão       5\n",
       "Laranja     7\n",
       "dtype: int64"
      ]
     },
     "execution_count": 4,
     "metadata": {},
     "output_type": "execute_result"
    }
   ],
   "source": [
    "frutas_serie = pd.Series(data = [10, 9, 9, 4, 5, 7], \n",
    "                        index = ['Maçã', 'Banana', 'Pera', 'Uva', 'Mamão', 'Laranja'])\n",
    "\n",
    "frutas_serie"
   ]
  },
  {
   "cell_type": "markdown",
   "metadata": {},
   "source": [
    "Para facilitar a criação de Series com idices, podemos utilizar dicionários (vistos na [aula 0](https://github.com/icmc-data/Intro-DS-2020.1/blob/master/Aula0/Jupyter%20e%20Python.ipynb)) da seguinte forma:"
   ]
  },
  {
   "cell_type": "code",
   "execution_count": 5,
   "metadata": {},
   "outputs": [
    {
     "data": {
      "text/plain": [
       "Maçã       10\n",
       "Banana      9\n",
       "Pera        9\n",
       "Uva         4\n",
       "Mamão       5\n",
       "Laranja     7\n",
       "dtype: int64"
      ]
     },
     "execution_count": 5,
     "metadata": {},
     "output_type": "execute_result"
    }
   ],
   "source": [
    "dict_frutas = {'Maçã' : 10, 'Banana' : 9, 'Pera' : 9, 'Uva' : 4, 'Mamão' : 5, 'Laranja' : 7}\n",
    "frutas_serie = pd.Series(dict_frutas)\n",
    "\n",
    "frutas_serie"
   ]
  },
  {
   "cell_type": "markdown",
   "metadata": {},
   "source": [
    "Já um **Dataframe** é mais próximo de uma planilha ou uma tabela, ou seja, uma estrutura bidimensional de dados. Podemos pensar num Dataframe como um conjunto de Series, onde cada uma das colunas da tabela é uma Serie. Cada linha da planilha será um *Exemplo* e terá diversas informações, as quais serão nomeadas nas colunas, e esses são os nossos *Atributos* ou *Features*. Assim como para as Series, podemos criar um Dataframe de diversas maneiras. Por exemplo utilizando um dicionário:"
   ]
  },
  {
   "cell_type": "code",
   "execution_count": 6,
   "metadata": {},
   "outputs": [
    {
     "data": {
      "text/html": [
       "<div>\n",
       "<style scoped>\n",
       "    .dataframe tbody tr th:only-of-type {\n",
       "        vertical-align: middle;\n",
       "    }\n",
       "\n",
       "    .dataframe tbody tr th {\n",
       "        vertical-align: top;\n",
       "    }\n",
       "\n",
       "    .dataframe thead th {\n",
       "        text-align: right;\n",
       "    }\n",
       "</style>\n",
       "<table border=\"1\" class=\"dataframe\">\n",
       "  <thead>\n",
       "    <tr style=\"text-align: right;\">\n",
       "      <th></th>\n",
       "      <th>Nome</th>\n",
       "      <th>Quantidade</th>\n",
       "      <th>Preço</th>\n",
       "      <th>Fornecedor</th>\n",
       "    </tr>\n",
       "  </thead>\n",
       "  <tbody>\n",
       "    <tr>\n",
       "      <th>0</th>\n",
       "      <td>Maçã</td>\n",
       "      <td>10</td>\n",
       "      <td>1.00</td>\n",
       "      <td>Beto</td>\n",
       "    </tr>\n",
       "    <tr>\n",
       "      <th>1</th>\n",
       "      <td>Banana</td>\n",
       "      <td>9</td>\n",
       "      <td>0.50</td>\n",
       "      <td>Ze</td>\n",
       "    </tr>\n",
       "    <tr>\n",
       "      <th>2</th>\n",
       "      <td>Pera</td>\n",
       "      <td>9</td>\n",
       "      <td>9.00</td>\n",
       "      <td>Chico</td>\n",
       "    </tr>\n",
       "    <tr>\n",
       "      <th>3</th>\n",
       "      <td>Uva</td>\n",
       "      <td>4</td>\n",
       "      <td>4.99</td>\n",
       "      <td>Tião</td>\n",
       "    </tr>\n",
       "    <tr>\n",
       "      <th>4</th>\n",
       "      <td>Mamão</td>\n",
       "      <td>5</td>\n",
       "      <td>2.50</td>\n",
       "      <td>Jão</td>\n",
       "    </tr>\n",
       "    <tr>\n",
       "      <th>5</th>\n",
       "      <td>Laranja</td>\n",
       "      <td>7</td>\n",
       "      <td>1.99</td>\n",
       "      <td>Marcão</td>\n",
       "    </tr>\n",
       "  </tbody>\n",
       "</table>\n",
       "</div>"
      ],
      "text/plain": [
       "      Nome  Quantidade  Preço Fornecedor\n",
       "0     Maçã          10   1.00       Beto\n",
       "1   Banana           9   0.50         Ze\n",
       "2     Pera           9   9.00      Chico\n",
       "3      Uva           4   4.99       Tião\n",
       "4    Mamão           5   2.50        Jão\n",
       "5  Laranja           7   1.99     Marcão"
      ]
     },
     "execution_count": 6,
     "metadata": {},
     "output_type": "execute_result"
    }
   ],
   "source": [
    "dict_frutas = {'Nome': ['Maçã', 'Banana', 'Pera', 'Uva', 'Mamão', 'Laranja'], \n",
    "               'Quantidade': [10, 9, 9, 4, 5, 7], \n",
    "               'Preço': [1, 0.5, 9, 4.99, 2.50, 1.99],\n",
    "               'Fornecedor': ['Beto', 'Ze', 'Chico', 'Tião', 'Jão', 'Marcão']}\n",
    "\n",
    "frutas_df = pd.DataFrame(dict_frutas)\n",
    "frutas_df"
   ]
  },
  {
   "cell_type": "markdown",
   "metadata": {},
   "source": [
    "No exemplo acima, temos quatro features (Nome, Quantidade, Preço e Fornecedor) e seis exemplos. Cada exemplo tem um valor para cada uma das suas features.  \n",
    "\n",
    "Essa é a ideia do Dataframe: linhas de dados separados em colunas."
   ]
  },
  {
   "cell_type": "markdown",
   "metadata": {},
   "source": [
    "### Leitura de dados\n",
    "Em geral os nossos dados são armazenados em arquivos. Precisamos, assim, que as informações sejam lidas do arquivo para que possamos tratá-lo como um Dataframe e utilizar seus métodos.\n",
    "\n",
    "Existem diferentes funções para ler os arquivos, a depender do seu formato. Por exemplo:\n",
    "\n",
    "- [read_csv](https://pandas.pydata.org/pandas-docs/stable/reference/api/pandas.read_csv.html): lê arquivos no formato csv (comma-separated values)\n",
    "- [read_excel](https://pandas.pydata.org/pandas-docs/stable/reference/api/pandas.read_excel.html): lê planilhas do excel (é preciso instalar uma [extensão](https://pypi.org/project/xlrd/) para utilizá-la)\n",
    "- [read_htlm](https://pandas.pydata.org/pandas-docs/stable/reference/api/pandas.read_html.html): lê tabelas direto de um site\n",
    "\n",
    "Cada uma dessas funções tem diversos parâmetros que serão mais explorados conforme formos utilizando a biblioteca.\n",
    "O que todos têm em como é que devemos informar o nome do arquivo jutamente com caminho completo para alcançá-lo.  \n",
    "\n",
    "Vamos utilizar, no exemplo, a função para ler arquivos no formato csv. Esse tipo de arquivo tem seus valores separados por vírgula, ponto-e-vírgula ou outro caracter. Alguns dos parâmetros relevantes são:\n",
    "\n",
    "- filepath: o caminho para o arquivo (único parâmetro obrigatório)\n",
    "- sep: caracter utilizado como separador no arquivo, por padrão é ','\n",
    "- index_col = coluna que define o indice\n",
    "\n",
    "O arquivo que utilizaremos nessa aula contém dados sobre o Coronavírus (sempre legal usar dados reais e recentes)."
   ]
  },
  {
   "cell_type": "code",
   "execution_count": 7,
   "metadata": {},
   "outputs": [
    {
     "data": {
      "text/html": [
       "<div>\n",
       "<style scoped>\n",
       "    .dataframe tbody tr th:only-of-type {\n",
       "        vertical-align: middle;\n",
       "    }\n",
       "\n",
       "    .dataframe tbody tr th {\n",
       "        vertical-align: top;\n",
       "    }\n",
       "\n",
       "    .dataframe thead th {\n",
       "        text-align: right;\n",
       "    }\n",
       "</style>\n",
       "<table border=\"1\" class=\"dataframe\">\n",
       "  <thead>\n",
       "    <tr style=\"text-align: right;\">\n",
       "      <th></th>\n",
       "      <th>ObservationDate</th>\n",
       "      <th>Province/State</th>\n",
       "      <th>Country/Region</th>\n",
       "      <th>Last Update</th>\n",
       "      <th>Confirmed</th>\n",
       "      <th>Deaths</th>\n",
       "      <th>Recovered</th>\n",
       "    </tr>\n",
       "    <tr>\n",
       "      <th>SNo</th>\n",
       "      <th></th>\n",
       "      <th></th>\n",
       "      <th></th>\n",
       "      <th></th>\n",
       "      <th></th>\n",
       "      <th></th>\n",
       "      <th></th>\n",
       "    </tr>\n",
       "  </thead>\n",
       "  <tbody>\n",
       "    <tr>\n",
       "      <th>1</th>\n",
       "      <td>01/22/2020</td>\n",
       "      <td>Anhui</td>\n",
       "      <td>Mainland China</td>\n",
       "      <td>1/22/2020 17:00</td>\n",
       "      <td>1.0</td>\n",
       "      <td>0.0</td>\n",
       "      <td>0.0</td>\n",
       "    </tr>\n",
       "    <tr>\n",
       "      <th>2</th>\n",
       "      <td>01/22/2020</td>\n",
       "      <td>Beijing</td>\n",
       "      <td>Mainland China</td>\n",
       "      <td>1/22/2020 17:00</td>\n",
       "      <td>14.0</td>\n",
       "      <td>0.0</td>\n",
       "      <td>0.0</td>\n",
       "    </tr>\n",
       "    <tr>\n",
       "      <th>3</th>\n",
       "      <td>01/22/2020</td>\n",
       "      <td>Chongqing</td>\n",
       "      <td>Mainland China</td>\n",
       "      <td>1/22/2020 17:00</td>\n",
       "      <td>6.0</td>\n",
       "      <td>0.0</td>\n",
       "      <td>0.0</td>\n",
       "    </tr>\n",
       "    <tr>\n",
       "      <th>4</th>\n",
       "      <td>01/22/2020</td>\n",
       "      <td>Fujian</td>\n",
       "      <td>Mainland China</td>\n",
       "      <td>1/22/2020 17:00</td>\n",
       "      <td>1.0</td>\n",
       "      <td>0.0</td>\n",
       "      <td>0.0</td>\n",
       "    </tr>\n",
       "    <tr>\n",
       "      <th>5</th>\n",
       "      <td>01/22/2020</td>\n",
       "      <td>Gansu</td>\n",
       "      <td>Mainland China</td>\n",
       "      <td>1/22/2020 17:00</td>\n",
       "      <td>0.0</td>\n",
       "      <td>0.0</td>\n",
       "      <td>0.0</td>\n",
       "    </tr>\n",
       "    <tr>\n",
       "      <th>...</th>\n",
       "      <td>...</td>\n",
       "      <td>...</td>\n",
       "      <td>...</td>\n",
       "      <td>...</td>\n",
       "      <td>...</td>\n",
       "      <td>...</td>\n",
       "      <td>...</td>\n",
       "    </tr>\n",
       "    <tr>\n",
       "      <th>9113</th>\n",
       "      <td>03/26/2020</td>\n",
       "      <td>Wyoming</td>\n",
       "      <td>US</td>\n",
       "      <td>2020-03-26 23:53:24</td>\n",
       "      <td>53.0</td>\n",
       "      <td>0.0</td>\n",
       "      <td>0.0</td>\n",
       "    </tr>\n",
       "    <tr>\n",
       "      <th>9114</th>\n",
       "      <td>03/26/2020</td>\n",
       "      <td>Xinjiang</td>\n",
       "      <td>Mainland China</td>\n",
       "      <td>2020-03-26 23:53:24</td>\n",
       "      <td>76.0</td>\n",
       "      <td>3.0</td>\n",
       "      <td>73.0</td>\n",
       "    </tr>\n",
       "    <tr>\n",
       "      <th>9115</th>\n",
       "      <td>03/26/2020</td>\n",
       "      <td>Yukon</td>\n",
       "      <td>Canada</td>\n",
       "      <td>2020-03-26 23:53:24</td>\n",
       "      <td>3.0</td>\n",
       "      <td>0.0</td>\n",
       "      <td>0.0</td>\n",
       "    </tr>\n",
       "    <tr>\n",
       "      <th>9116</th>\n",
       "      <td>03/26/2020</td>\n",
       "      <td>Yunnan</td>\n",
       "      <td>Mainland China</td>\n",
       "      <td>2020-03-26 23:53:24</td>\n",
       "      <td>178.0</td>\n",
       "      <td>2.0</td>\n",
       "      <td>172.0</td>\n",
       "    </tr>\n",
       "    <tr>\n",
       "      <th>9117</th>\n",
       "      <td>03/26/2020</td>\n",
       "      <td>Zhejiang</td>\n",
       "      <td>Mainland China</td>\n",
       "      <td>2020-03-26 23:53:24</td>\n",
       "      <td>1243.0</td>\n",
       "      <td>1.0</td>\n",
       "      <td>1222.0</td>\n",
       "    </tr>\n",
       "  </tbody>\n",
       "</table>\n",
       "<p>9117 rows × 7 columns</p>\n",
       "</div>"
      ],
      "text/plain": [
       "     ObservationDate Province/State  Country/Region          Last Update  \\\n",
       "SNo                                                                        \n",
       "1         01/22/2020          Anhui  Mainland China      1/22/2020 17:00   \n",
       "2         01/22/2020        Beijing  Mainland China      1/22/2020 17:00   \n",
       "3         01/22/2020      Chongqing  Mainland China      1/22/2020 17:00   \n",
       "4         01/22/2020         Fujian  Mainland China      1/22/2020 17:00   \n",
       "5         01/22/2020          Gansu  Mainland China      1/22/2020 17:00   \n",
       "...              ...            ...             ...                  ...   \n",
       "9113      03/26/2020        Wyoming              US  2020-03-26 23:53:24   \n",
       "9114      03/26/2020       Xinjiang  Mainland China  2020-03-26 23:53:24   \n",
       "9115      03/26/2020          Yukon          Canada  2020-03-26 23:53:24   \n",
       "9116      03/26/2020         Yunnan  Mainland China  2020-03-26 23:53:24   \n",
       "9117      03/26/2020       Zhejiang  Mainland China  2020-03-26 23:53:24   \n",
       "\n",
       "      Confirmed  Deaths  Recovered  \n",
       "SNo                                 \n",
       "1           1.0     0.0        0.0  \n",
       "2          14.0     0.0        0.0  \n",
       "3           6.0     0.0        0.0  \n",
       "4           1.0     0.0        0.0  \n",
       "5           0.0     0.0        0.0  \n",
       "...         ...     ...        ...  \n",
       "9113       53.0     0.0        0.0  \n",
       "9114       76.0     3.0       73.0  \n",
       "9115        3.0     0.0        0.0  \n",
       "9116      178.0     2.0      172.0  \n",
       "9117     1243.0     1.0     1222.0  \n",
       "\n",
       "[9117 rows x 7 columns]"
      ]
     },
     "execution_count": 7,
     "metadata": {},
     "output_type": "execute_result"
    }
   ],
   "source": [
    "df = pd.read_csv('covid_19_data.csv', index_col = 0)\n",
    "df"
   ]
  },
  {
   "cell_type": "markdown",
   "metadata": {},
   "source": [
    "### Visualização do Dataframe\n",
    "\n",
    "Muitas vezes queremos visualizar o nosso Dataframe para obter novas informações, debugar (T.T), tirar dúvidas e muito mais."
   ]
  },
  {
   "cell_type": "markdown",
   "metadata": {},
   "source": [
    "Podemos ver a dimensão do dataframe e, assim, saber quantas linhas (exemplos) e quantas colunas (features) temos. Com o atributo **shape** teremos uma tupla com a quantidade de linhas e a quantidade de colunas, respectivamente:"
   ]
  },
  {
   "cell_type": "code",
   "execution_count": 8,
   "metadata": {},
   "outputs": [
    {
     "data": {
      "text/plain": [
       "(9117, 7)"
      ]
     },
     "execution_count": 8,
     "metadata": {},
     "output_type": "execute_result"
    }
   ],
   "source": [
    "df.shape"
   ]
  },
  {
   "cell_type": "markdown",
   "metadata": {},
   "source": [
    "É possível ver os indices do dataframe com o atributo **index**:"
   ]
  },
  {
   "cell_type": "code",
   "execution_count": 9,
   "metadata": {},
   "outputs": [
    {
     "data": {
      "text/plain": [
       "Int64Index([   1,    2,    3,    4,    5,    6,    7,    8,    9,   10,\n",
       "            ...\n",
       "            9108, 9109, 9110, 9111, 9112, 9113, 9114, 9115, 9116, 9117],\n",
       "           dtype='int64', name='SNo', length=9117)"
      ]
     },
     "execution_count": 9,
     "metadata": {},
     "output_type": "execute_result"
    }
   ],
   "source": [
    "df.index"
   ]
  },
  {
   "cell_type": "markdown",
   "metadata": {},
   "source": [
    "E os nomes das colunas (features) com o atributo **columns**:"
   ]
  },
  {
   "cell_type": "code",
   "execution_count": 10,
   "metadata": {},
   "outputs": [
    {
     "data": {
      "text/plain": [
       "Index(['ObservationDate', 'Province/State', 'Country/Region', 'Last Update',\n",
       "       'Confirmed', 'Deaths', 'Recovered'],\n",
       "      dtype='object')"
      ]
     },
     "execution_count": 10,
     "metadata": {},
     "output_type": "execute_result"
    }
   ],
   "source": [
    "df.columns"
   ]
  },
  {
   "cell_type": "markdown",
   "metadata": {},
   "source": [
    "Os tipos dos dados de cada um das colunas com o **dtypes**:"
   ]
  },
  {
   "cell_type": "code",
   "execution_count": 11,
   "metadata": {},
   "outputs": [
    {
     "data": {
      "text/plain": [
       "ObservationDate     object\n",
       "Province/State      object\n",
       "Country/Region      object\n",
       "Last Update         object\n",
       "Confirmed          float64\n",
       "Deaths             float64\n",
       "Recovered          float64\n",
       "dtype: object"
      ]
     },
     "execution_count": 11,
     "metadata": {},
     "output_type": "execute_result"
    }
   ],
   "source": [
    "df.dtypes"
   ]
  },
  {
   "cell_type": "markdown",
   "metadata": {},
   "source": [
    "Os primeiros exemplos do dataframe com o método **head**:"
   ]
  },
  {
   "cell_type": "code",
   "execution_count": 12,
   "metadata": {},
   "outputs": [
    {
     "data": {
      "text/html": [
       "<div>\n",
       "<style scoped>\n",
       "    .dataframe tbody tr th:only-of-type {\n",
       "        vertical-align: middle;\n",
       "    }\n",
       "\n",
       "    .dataframe tbody tr th {\n",
       "        vertical-align: top;\n",
       "    }\n",
       "\n",
       "    .dataframe thead th {\n",
       "        text-align: right;\n",
       "    }\n",
       "</style>\n",
       "<table border=\"1\" class=\"dataframe\">\n",
       "  <thead>\n",
       "    <tr style=\"text-align: right;\">\n",
       "      <th></th>\n",
       "      <th>ObservationDate</th>\n",
       "      <th>Province/State</th>\n",
       "      <th>Country/Region</th>\n",
       "      <th>Last Update</th>\n",
       "      <th>Confirmed</th>\n",
       "      <th>Deaths</th>\n",
       "      <th>Recovered</th>\n",
       "    </tr>\n",
       "    <tr>\n",
       "      <th>SNo</th>\n",
       "      <th></th>\n",
       "      <th></th>\n",
       "      <th></th>\n",
       "      <th></th>\n",
       "      <th></th>\n",
       "      <th></th>\n",
       "      <th></th>\n",
       "    </tr>\n",
       "  </thead>\n",
       "  <tbody>\n",
       "    <tr>\n",
       "      <th>1</th>\n",
       "      <td>01/22/2020</td>\n",
       "      <td>Anhui</td>\n",
       "      <td>Mainland China</td>\n",
       "      <td>1/22/2020 17:00</td>\n",
       "      <td>1.0</td>\n",
       "      <td>0.0</td>\n",
       "      <td>0.0</td>\n",
       "    </tr>\n",
       "    <tr>\n",
       "      <th>2</th>\n",
       "      <td>01/22/2020</td>\n",
       "      <td>Beijing</td>\n",
       "      <td>Mainland China</td>\n",
       "      <td>1/22/2020 17:00</td>\n",
       "      <td>14.0</td>\n",
       "      <td>0.0</td>\n",
       "      <td>0.0</td>\n",
       "    </tr>\n",
       "    <tr>\n",
       "      <th>3</th>\n",
       "      <td>01/22/2020</td>\n",
       "      <td>Chongqing</td>\n",
       "      <td>Mainland China</td>\n",
       "      <td>1/22/2020 17:00</td>\n",
       "      <td>6.0</td>\n",
       "      <td>0.0</td>\n",
       "      <td>0.0</td>\n",
       "    </tr>\n",
       "    <tr>\n",
       "      <th>4</th>\n",
       "      <td>01/22/2020</td>\n",
       "      <td>Fujian</td>\n",
       "      <td>Mainland China</td>\n",
       "      <td>1/22/2020 17:00</td>\n",
       "      <td>1.0</td>\n",
       "      <td>0.0</td>\n",
       "      <td>0.0</td>\n",
       "    </tr>\n",
       "    <tr>\n",
       "      <th>5</th>\n",
       "      <td>01/22/2020</td>\n",
       "      <td>Gansu</td>\n",
       "      <td>Mainland China</td>\n",
       "      <td>1/22/2020 17:00</td>\n",
       "      <td>0.0</td>\n",
       "      <td>0.0</td>\n",
       "      <td>0.0</td>\n",
       "    </tr>\n",
       "  </tbody>\n",
       "</table>\n",
       "</div>"
      ],
      "text/plain": [
       "    ObservationDate Province/State  Country/Region      Last Update  \\\n",
       "SNo                                                                   \n",
       "1        01/22/2020          Anhui  Mainland China  1/22/2020 17:00   \n",
       "2        01/22/2020        Beijing  Mainland China  1/22/2020 17:00   \n",
       "3        01/22/2020      Chongqing  Mainland China  1/22/2020 17:00   \n",
       "4        01/22/2020         Fujian  Mainland China  1/22/2020 17:00   \n",
       "5        01/22/2020          Gansu  Mainland China  1/22/2020 17:00   \n",
       "\n",
       "     Confirmed  Deaths  Recovered  \n",
       "SNo                                \n",
       "1          1.0     0.0        0.0  \n",
       "2         14.0     0.0        0.0  \n",
       "3          6.0     0.0        0.0  \n",
       "4          1.0     0.0        0.0  \n",
       "5          0.0     0.0        0.0  "
      ]
     },
     "execution_count": 12,
     "metadata": {},
     "output_type": "execute_result"
    }
   ],
   "source": [
    "df.head()"
   ]
  },
  {
   "cell_type": "markdown",
   "metadata": {},
   "source": [
    "E os últimos exemplos do dataframe com o método **tail**:"
   ]
  },
  {
   "cell_type": "code",
   "execution_count": 13,
   "metadata": {},
   "outputs": [
    {
     "data": {
      "text/html": [
       "<div>\n",
       "<style scoped>\n",
       "    .dataframe tbody tr th:only-of-type {\n",
       "        vertical-align: middle;\n",
       "    }\n",
       "\n",
       "    .dataframe tbody tr th {\n",
       "        vertical-align: top;\n",
       "    }\n",
       "\n",
       "    .dataframe thead th {\n",
       "        text-align: right;\n",
       "    }\n",
       "</style>\n",
       "<table border=\"1\" class=\"dataframe\">\n",
       "  <thead>\n",
       "    <tr style=\"text-align: right;\">\n",
       "      <th></th>\n",
       "      <th>ObservationDate</th>\n",
       "      <th>Province/State</th>\n",
       "      <th>Country/Region</th>\n",
       "      <th>Last Update</th>\n",
       "      <th>Confirmed</th>\n",
       "      <th>Deaths</th>\n",
       "      <th>Recovered</th>\n",
       "    </tr>\n",
       "    <tr>\n",
       "      <th>SNo</th>\n",
       "      <th></th>\n",
       "      <th></th>\n",
       "      <th></th>\n",
       "      <th></th>\n",
       "      <th></th>\n",
       "      <th></th>\n",
       "      <th></th>\n",
       "    </tr>\n",
       "  </thead>\n",
       "  <tbody>\n",
       "    <tr>\n",
       "      <th>9113</th>\n",
       "      <td>03/26/2020</td>\n",
       "      <td>Wyoming</td>\n",
       "      <td>US</td>\n",
       "      <td>2020-03-26 23:53:24</td>\n",
       "      <td>53.0</td>\n",
       "      <td>0.0</td>\n",
       "      <td>0.0</td>\n",
       "    </tr>\n",
       "    <tr>\n",
       "      <th>9114</th>\n",
       "      <td>03/26/2020</td>\n",
       "      <td>Xinjiang</td>\n",
       "      <td>Mainland China</td>\n",
       "      <td>2020-03-26 23:53:24</td>\n",
       "      <td>76.0</td>\n",
       "      <td>3.0</td>\n",
       "      <td>73.0</td>\n",
       "    </tr>\n",
       "    <tr>\n",
       "      <th>9115</th>\n",
       "      <td>03/26/2020</td>\n",
       "      <td>Yukon</td>\n",
       "      <td>Canada</td>\n",
       "      <td>2020-03-26 23:53:24</td>\n",
       "      <td>3.0</td>\n",
       "      <td>0.0</td>\n",
       "      <td>0.0</td>\n",
       "    </tr>\n",
       "    <tr>\n",
       "      <th>9116</th>\n",
       "      <td>03/26/2020</td>\n",
       "      <td>Yunnan</td>\n",
       "      <td>Mainland China</td>\n",
       "      <td>2020-03-26 23:53:24</td>\n",
       "      <td>178.0</td>\n",
       "      <td>2.0</td>\n",
       "      <td>172.0</td>\n",
       "    </tr>\n",
       "    <tr>\n",
       "      <th>9117</th>\n",
       "      <td>03/26/2020</td>\n",
       "      <td>Zhejiang</td>\n",
       "      <td>Mainland China</td>\n",
       "      <td>2020-03-26 23:53:24</td>\n",
       "      <td>1243.0</td>\n",
       "      <td>1.0</td>\n",
       "      <td>1222.0</td>\n",
       "    </tr>\n",
       "  </tbody>\n",
       "</table>\n",
       "</div>"
      ],
      "text/plain": [
       "     ObservationDate Province/State  Country/Region          Last Update  \\\n",
       "SNo                                                                        \n",
       "9113      03/26/2020        Wyoming              US  2020-03-26 23:53:24   \n",
       "9114      03/26/2020       Xinjiang  Mainland China  2020-03-26 23:53:24   \n",
       "9115      03/26/2020          Yukon          Canada  2020-03-26 23:53:24   \n",
       "9116      03/26/2020         Yunnan  Mainland China  2020-03-26 23:53:24   \n",
       "9117      03/26/2020       Zhejiang  Mainland China  2020-03-26 23:53:24   \n",
       "\n",
       "      Confirmed  Deaths  Recovered  \n",
       "SNo                                 \n",
       "9113       53.0     0.0        0.0  \n",
       "9114       76.0     3.0       73.0  \n",
       "9115        3.0     0.0        0.0  \n",
       "9116      178.0     2.0      172.0  \n",
       "9117     1243.0     1.0     1222.0  "
      ]
     },
     "execution_count": 13,
     "metadata": {},
     "output_type": "execute_result"
    }
   ],
   "source": [
    "df.tail()"
   ]
  },
  {
   "cell_type": "markdown",
   "metadata": {},
   "source": [
    "Uma breve descrição estatística de cada uma das features numéricas com o **describe**:"
   ]
  },
  {
   "cell_type": "code",
   "execution_count": 14,
   "metadata": {},
   "outputs": [
    {
     "data": {
      "text/html": [
       "<div>\n",
       "<style scoped>\n",
       "    .dataframe tbody tr th:only-of-type {\n",
       "        vertical-align: middle;\n",
       "    }\n",
       "\n",
       "    .dataframe tbody tr th {\n",
       "        vertical-align: top;\n",
       "    }\n",
       "\n",
       "    .dataframe thead th {\n",
       "        text-align: right;\n",
       "    }\n",
       "</style>\n",
       "<table border=\"1\" class=\"dataframe\">\n",
       "  <thead>\n",
       "    <tr style=\"text-align: right;\">\n",
       "      <th></th>\n",
       "      <th>Confirmed</th>\n",
       "      <th>Deaths</th>\n",
       "      <th>Recovered</th>\n",
       "    </tr>\n",
       "  </thead>\n",
       "  <tbody>\n",
       "    <tr>\n",
       "      <th>count</th>\n",
       "      <td>9117.000000</td>\n",
       "      <td>9117.000000</td>\n",
       "      <td>9117.000000</td>\n",
       "    </tr>\n",
       "    <tr>\n",
       "      <th>mean</th>\n",
       "      <td>766.820774</td>\n",
       "      <td>28.791927</td>\n",
       "      <td>255.273994</td>\n",
       "    </tr>\n",
       "    <tr>\n",
       "      <th>std</th>\n",
       "      <td>5322.616735</td>\n",
       "      <td>283.310806</td>\n",
       "      <td>2838.560708</td>\n",
       "    </tr>\n",
       "    <tr>\n",
       "      <th>min</th>\n",
       "      <td>0.000000</td>\n",
       "      <td>0.000000</td>\n",
       "      <td>0.000000</td>\n",
       "    </tr>\n",
       "    <tr>\n",
       "      <th>25%</th>\n",
       "      <td>2.000000</td>\n",
       "      <td>0.000000</td>\n",
       "      <td>0.000000</td>\n",
       "    </tr>\n",
       "    <tr>\n",
       "      <th>50%</th>\n",
       "      <td>21.000000</td>\n",
       "      <td>0.000000</td>\n",
       "      <td>0.000000</td>\n",
       "    </tr>\n",
       "    <tr>\n",
       "      <th>75%</th>\n",
       "      <td>162.000000</td>\n",
       "      <td>1.000000</td>\n",
       "      <td>10.000000</td>\n",
       "    </tr>\n",
       "    <tr>\n",
       "      <th>max</th>\n",
       "      <td>80589.000000</td>\n",
       "      <td>8215.000000</td>\n",
       "      <td>61201.000000</td>\n",
       "    </tr>\n",
       "  </tbody>\n",
       "</table>\n",
       "</div>"
      ],
      "text/plain": [
       "          Confirmed       Deaths     Recovered\n",
       "count   9117.000000  9117.000000   9117.000000\n",
       "mean     766.820774    28.791927    255.273994\n",
       "std     5322.616735   283.310806   2838.560708\n",
       "min        0.000000     0.000000      0.000000\n",
       "25%        2.000000     0.000000      0.000000\n",
       "50%       21.000000     0.000000      0.000000\n",
       "75%      162.000000     1.000000     10.000000\n",
       "max    80589.000000  8215.000000  61201.000000"
      ]
     },
     "execution_count": 14,
     "metadata": {},
     "output_type": "execute_result"
    }
   ],
   "source": [
    "df.describe()"
   ]
  },
  {
   "cell_type": "markdown",
   "metadata": {},
   "source": [
    "### Seleção dos dados\n",
    "\n",
    "Outra funcionalidade muito útil e importante é a de selecionar e acessar parte dos dados."
   ]
  },
  {
   "cell_type": "markdown",
   "metadata": {},
   "source": [
    "Podemos, por exemplo, selecionar uma feature específica. Para isso, acessamos o dataframe como se fosse um dicionário (visto na [Aula 0](https://github.com/icmc-data/Intro-DS-2020.1/blob/master/Aula0/Jupyter%20e%20Python.ipynb)), colocando entre colchetes o nome da feature que queremos.  \n",
    "Vimos quais são as colunas do dataframe com o comando utilizando seu atributo [columns](#Visualização-do-Dataframe), então agora basta acessar qualquer uma delas."
   ]
  },
  {
   "cell_type": "code",
   "execution_count": 15,
   "metadata": {},
   "outputs": [
    {
     "data": {
      "text/plain": [
       "SNo\n",
       "1           Anhui\n",
       "2         Beijing\n",
       "3       Chongqing\n",
       "4          Fujian\n",
       "5           Gansu\n",
       "          ...    \n",
       "9113      Wyoming\n",
       "9114     Xinjiang\n",
       "9115        Yukon\n",
       "9116       Yunnan\n",
       "9117     Zhejiang\n",
       "Name: Province/State, Length: 9117, dtype: object"
      ]
     },
     "execution_count": 15,
     "metadata": {},
     "output_type": "execute_result"
    }
   ],
   "source": [
    "df['Province/State']"
   ]
  },
  {
   "cell_type": "code",
   "execution_count": 16,
   "metadata": {},
   "outputs": [
    {
     "data": {
      "text/plain": [
       "SNo\n",
       "1       01/22/2020\n",
       "2       01/22/2020\n",
       "3       01/22/2020\n",
       "4       01/22/2020\n",
       "5       01/22/2020\n",
       "           ...    \n",
       "9113    03/26/2020\n",
       "9114    03/26/2020\n",
       "9115    03/26/2020\n",
       "9116    03/26/2020\n",
       "9117    03/26/2020\n",
       "Name: ObservationDate, Length: 9117, dtype: object"
      ]
     },
     "execution_count": 16,
     "metadata": {},
     "output_type": "execute_result"
    }
   ],
   "source": [
    "df['ObservationDate']"
   ]
  },
  {
   "cell_type": "markdown",
   "metadata": {},
   "source": [
    "Outra possibilidade é a de selecionar uma linha do dataframe. É possível fazê-lo utilizando comandos diferentes:\n",
    "\n",
    "- [iloc[]](https://pandas.pydata.org/pandas-docs/stable/reference/api/pandas.DataFrame.iloc.html): acessa uma linha pela sua posição no dataframe. Se acessarmos a posição 1, teremos o segundo exemplo do dataframe.\n",
    "- [loc[]](https://pandas.pydata.org/pandas-docs/stable/reference/api/pandas.DataFrame.loc.html): acessa uma linha por meio de uma *label*. Pode ser, por exemplo, uma indexação booleana (como veremos a seguir) ou o indice da linha. Se acessarmos o indice 1, teremos o primeiro exemplo do dataframe, já que esse é o indice.\n",
    "\n",
    "Abaixo vemos a execução dos dois. Note que apesar de acessarmos '1' em ambos os casos, com iloc temos o exemplo cujo Name é 2, ou seja, o segundo exemplo do dataframe, enquanto no caso do loc temos o exemplo com Name 1, ou seja, o primeiro exemplo do dataframe."
   ]
  },
  {
   "cell_type": "code",
   "execution_count": 17,
   "metadata": {},
   "outputs": [
    {
     "data": {
      "text/plain": [
       "ObservationDate         01/22/2020\n",
       "Province/State             Beijing\n",
       "Country/Region      Mainland China\n",
       "Last Update        1/22/2020 17:00\n",
       "Confirmed                       14\n",
       "Deaths                           0\n",
       "Recovered                        0\n",
       "Name: 2, dtype: object"
      ]
     },
     "execution_count": 17,
     "metadata": {},
     "output_type": "execute_result"
    }
   ],
   "source": [
    "df.iloc[1]"
   ]
  },
  {
   "cell_type": "code",
   "execution_count": 18,
   "metadata": {},
   "outputs": [
    {
     "data": {
      "text/plain": [
       "ObservationDate         01/22/2020\n",
       "Province/State               Anhui\n",
       "Country/Region      Mainland China\n",
       "Last Update        1/22/2020 17:00\n",
       "Confirmed                        1\n",
       "Deaths                           0\n",
       "Recovered                        0\n",
       "Name: 1, dtype: object"
      ]
     },
     "execution_count": 18,
     "metadata": {},
     "output_type": "execute_result"
    }
   ],
   "source": [
    "df.loc[1]"
   ]
  },
  {
   "cell_type": "markdown",
   "metadata": {},
   "source": [
    "É importante ressaltar que tanto *loc* quanto *iloc* são ideais para o acesso de linhas, mas não para a sua modificação. Para tanto é preciso utilizar *at* e *iat*, que se comportam de forma semelhante ao *loc* e *iloc* respectivamente."
   ]
  },
  {
   "cell_type": "markdown",
   "metadata": {},
   "source": [
    "### Indexação booleana\n",
    "Já vimos como selecionar linhas e colunas do nosso dataframe, mas e se quisermos selecionar apenas as linhas que cumprem certo requisito?  \n",
    "Para isso, utilizamos a chamada indexação booleana. Utiliza-se uma expressão que retorna uma Serie ou um Dataframe apenas com valores booleanos (True ou False), o qual é utilizado para fazer a seleção do Dataframe."
   ]
  },
  {
   "cell_type": "markdown",
   "metadata": {},
   "source": [
    "Se quisermos, por exemplo, ver apenas as linhas que tem informações dos dias nos quais não houve nenhuma uma morte devido ao vírus. Primeiro geramos uma Serie com valores booleanos:"
   ]
  },
  {
   "cell_type": "code",
   "execution_count": 19,
   "metadata": {},
   "outputs": [
    {
     "data": {
      "text/plain": [
       "SNo\n",
       "1        True\n",
       "2        True\n",
       "3        True\n",
       "4        True\n",
       "5        True\n",
       "        ...  \n",
       "9113     True\n",
       "9114    False\n",
       "9115     True\n",
       "9116    False\n",
       "9117    False\n",
       "Name: Deaths, Length: 9117, dtype: bool"
      ]
     },
     "execution_count": 19,
     "metadata": {},
     "output_type": "execute_result"
    }
   ],
   "source": [
    "df['Deaths'] == 0"
   ]
  },
  {
   "cell_type": "markdown",
   "metadata": {},
   "source": [
    "Em seguida utilizamos tal Serie para indexar o Dataframe:"
   ]
  },
  {
   "cell_type": "code",
   "execution_count": 20,
   "metadata": {},
   "outputs": [
    {
     "data": {
      "text/html": [
       "<div>\n",
       "<style scoped>\n",
       "    .dataframe tbody tr th:only-of-type {\n",
       "        vertical-align: middle;\n",
       "    }\n",
       "\n",
       "    .dataframe tbody tr th {\n",
       "        vertical-align: top;\n",
       "    }\n",
       "\n",
       "    .dataframe thead th {\n",
       "        text-align: right;\n",
       "    }\n",
       "</style>\n",
       "<table border=\"1\" class=\"dataframe\">\n",
       "  <thead>\n",
       "    <tr style=\"text-align: right;\">\n",
       "      <th></th>\n",
       "      <th>ObservationDate</th>\n",
       "      <th>Province/State</th>\n",
       "      <th>Country/Region</th>\n",
       "      <th>Last Update</th>\n",
       "      <th>Confirmed</th>\n",
       "      <th>Deaths</th>\n",
       "      <th>Recovered</th>\n",
       "    </tr>\n",
       "    <tr>\n",
       "      <th>SNo</th>\n",
       "      <th></th>\n",
       "      <th></th>\n",
       "      <th></th>\n",
       "      <th></th>\n",
       "      <th></th>\n",
       "      <th></th>\n",
       "      <th></th>\n",
       "    </tr>\n",
       "  </thead>\n",
       "  <tbody>\n",
       "    <tr>\n",
       "      <th>1</th>\n",
       "      <td>01/22/2020</td>\n",
       "      <td>Anhui</td>\n",
       "      <td>Mainland China</td>\n",
       "      <td>1/22/2020 17:00</td>\n",
       "      <td>1.0</td>\n",
       "      <td>0.0</td>\n",
       "      <td>0.0</td>\n",
       "    </tr>\n",
       "    <tr>\n",
       "      <th>2</th>\n",
       "      <td>01/22/2020</td>\n",
       "      <td>Beijing</td>\n",
       "      <td>Mainland China</td>\n",
       "      <td>1/22/2020 17:00</td>\n",
       "      <td>14.0</td>\n",
       "      <td>0.0</td>\n",
       "      <td>0.0</td>\n",
       "    </tr>\n",
       "    <tr>\n",
       "      <th>3</th>\n",
       "      <td>01/22/2020</td>\n",
       "      <td>Chongqing</td>\n",
       "      <td>Mainland China</td>\n",
       "      <td>1/22/2020 17:00</td>\n",
       "      <td>6.0</td>\n",
       "      <td>0.0</td>\n",
       "      <td>0.0</td>\n",
       "    </tr>\n",
       "    <tr>\n",
       "      <th>4</th>\n",
       "      <td>01/22/2020</td>\n",
       "      <td>Fujian</td>\n",
       "      <td>Mainland China</td>\n",
       "      <td>1/22/2020 17:00</td>\n",
       "      <td>1.0</td>\n",
       "      <td>0.0</td>\n",
       "      <td>0.0</td>\n",
       "    </tr>\n",
       "    <tr>\n",
       "      <th>5</th>\n",
       "      <td>01/22/2020</td>\n",
       "      <td>Gansu</td>\n",
       "      <td>Mainland China</td>\n",
       "      <td>1/22/2020 17:00</td>\n",
       "      <td>0.0</td>\n",
       "      <td>0.0</td>\n",
       "      <td>0.0</td>\n",
       "    </tr>\n",
       "    <tr>\n",
       "      <th>...</th>\n",
       "      <td>...</td>\n",
       "      <td>...</td>\n",
       "      <td>...</td>\n",
       "      <td>...</td>\n",
       "      <td>...</td>\n",
       "      <td>...</td>\n",
       "      <td>...</td>\n",
       "    </tr>\n",
       "    <tr>\n",
       "      <th>9103</th>\n",
       "      <td>03/26/2020</td>\n",
       "      <td>Tibet</td>\n",
       "      <td>Mainland China</td>\n",
       "      <td>2020-03-26 23:53:24</td>\n",
       "      <td>1.0</td>\n",
       "      <td>0.0</td>\n",
       "      <td>1.0</td>\n",
       "    </tr>\n",
       "    <tr>\n",
       "      <th>9107</th>\n",
       "      <td>03/26/2020</td>\n",
       "      <td>Virgin Islands</td>\n",
       "      <td>US</td>\n",
       "      <td>2020-03-26 23:53:24</td>\n",
       "      <td>17.0</td>\n",
       "      <td>0.0</td>\n",
       "      <td>0.0</td>\n",
       "    </tr>\n",
       "    <tr>\n",
       "      <th>9110</th>\n",
       "      <td>03/26/2020</td>\n",
       "      <td>West Virginia</td>\n",
       "      <td>US</td>\n",
       "      <td>2020-03-26 23:53:24</td>\n",
       "      <td>52.0</td>\n",
       "      <td>0.0</td>\n",
       "      <td>0.0</td>\n",
       "    </tr>\n",
       "    <tr>\n",
       "      <th>9113</th>\n",
       "      <td>03/26/2020</td>\n",
       "      <td>Wyoming</td>\n",
       "      <td>US</td>\n",
       "      <td>2020-03-26 23:53:24</td>\n",
       "      <td>53.0</td>\n",
       "      <td>0.0</td>\n",
       "      <td>0.0</td>\n",
       "    </tr>\n",
       "    <tr>\n",
       "      <th>9115</th>\n",
       "      <td>03/26/2020</td>\n",
       "      <td>Yukon</td>\n",
       "      <td>Canada</td>\n",
       "      <td>2020-03-26 23:53:24</td>\n",
       "      <td>3.0</td>\n",
       "      <td>0.0</td>\n",
       "      <td>0.0</td>\n",
       "    </tr>\n",
       "  </tbody>\n",
       "</table>\n",
       "<p>5991 rows × 7 columns</p>\n",
       "</div>"
      ],
      "text/plain": [
       "     ObservationDate  Province/State  Country/Region          Last Update  \\\n",
       "SNo                                                                         \n",
       "1         01/22/2020           Anhui  Mainland China      1/22/2020 17:00   \n",
       "2         01/22/2020         Beijing  Mainland China      1/22/2020 17:00   \n",
       "3         01/22/2020       Chongqing  Mainland China      1/22/2020 17:00   \n",
       "4         01/22/2020          Fujian  Mainland China      1/22/2020 17:00   \n",
       "5         01/22/2020           Gansu  Mainland China      1/22/2020 17:00   \n",
       "...              ...             ...             ...                  ...   \n",
       "9103      03/26/2020           Tibet  Mainland China  2020-03-26 23:53:24   \n",
       "9107      03/26/2020  Virgin Islands              US  2020-03-26 23:53:24   \n",
       "9110      03/26/2020   West Virginia              US  2020-03-26 23:53:24   \n",
       "9113      03/26/2020         Wyoming              US  2020-03-26 23:53:24   \n",
       "9115      03/26/2020           Yukon          Canada  2020-03-26 23:53:24   \n",
       "\n",
       "      Confirmed  Deaths  Recovered  \n",
       "SNo                                 \n",
       "1           1.0     0.0        0.0  \n",
       "2          14.0     0.0        0.0  \n",
       "3           6.0     0.0        0.0  \n",
       "4           1.0     0.0        0.0  \n",
       "5           0.0     0.0        0.0  \n",
       "...         ...     ...        ...  \n",
       "9103        1.0     0.0        1.0  \n",
       "9107       17.0     0.0        0.0  \n",
       "9110       52.0     0.0        0.0  \n",
       "9113       53.0     0.0        0.0  \n",
       "9115        3.0     0.0        0.0  \n",
       "\n",
       "[5991 rows x 7 columns]"
      ]
     },
     "execution_count": 20,
     "metadata": {},
     "output_type": "execute_result"
    }
   ],
   "source": [
    "df[df['Deaths'] == 0]"
   ]
  },
  {
   "cell_type": "markdown",
   "metadata": {},
   "source": [
    "Também é possível que mais de uma condição seja considerada. Nesse caso utilizamos os operadores and, or e not como operadores bitwise, ou seja, como &, | e ~.  \n",
    "Vamos selecionar as linhas que indicam dias nos quais não houve nenhuma morte e nenhum caso confirmado:"
   ]
  },
  {
   "cell_type": "code",
   "execution_count": 21,
   "metadata": {},
   "outputs": [
    {
     "data": {
      "text/html": [
       "<div>\n",
       "<style scoped>\n",
       "    .dataframe tbody tr th:only-of-type {\n",
       "        vertical-align: middle;\n",
       "    }\n",
       "\n",
       "    .dataframe tbody tr th {\n",
       "        vertical-align: top;\n",
       "    }\n",
       "\n",
       "    .dataframe thead th {\n",
       "        text-align: right;\n",
       "    }\n",
       "</style>\n",
       "<table border=\"1\" class=\"dataframe\">\n",
       "  <thead>\n",
       "    <tr style=\"text-align: right;\">\n",
       "      <th></th>\n",
       "      <th>ObservationDate</th>\n",
       "      <th>Province/State</th>\n",
       "      <th>Country/Region</th>\n",
       "      <th>Last Update</th>\n",
       "      <th>Confirmed</th>\n",
       "      <th>Deaths</th>\n",
       "      <th>Recovered</th>\n",
       "    </tr>\n",
       "    <tr>\n",
       "      <th>SNo</th>\n",
       "      <th></th>\n",
       "      <th></th>\n",
       "      <th></th>\n",
       "      <th></th>\n",
       "      <th></th>\n",
       "      <th></th>\n",
       "      <th></th>\n",
       "    </tr>\n",
       "  </thead>\n",
       "  <tbody>\n",
       "    <tr>\n",
       "      <th>5</th>\n",
       "      <td>01/22/2020</td>\n",
       "      <td>Gansu</td>\n",
       "      <td>Mainland China</td>\n",
       "      <td>1/22/2020 17:00</td>\n",
       "      <td>0.0</td>\n",
       "      <td>0.0</td>\n",
       "      <td>0.0</td>\n",
       "    </tr>\n",
       "    <tr>\n",
       "      <th>11</th>\n",
       "      <td>01/22/2020</td>\n",
       "      <td>Heilongjiang</td>\n",
       "      <td>Mainland China</td>\n",
       "      <td>1/22/2020 17:00</td>\n",
       "      <td>0.0</td>\n",
       "      <td>0.0</td>\n",
       "      <td>0.0</td>\n",
       "    </tr>\n",
       "    <tr>\n",
       "      <th>13</th>\n",
       "      <td>01/22/2020</td>\n",
       "      <td>Hong Kong</td>\n",
       "      <td>Hong Kong</td>\n",
       "      <td>1/22/2020 17:00</td>\n",
       "      <td>0.0</td>\n",
       "      <td>0.0</td>\n",
       "      <td>0.0</td>\n",
       "    </tr>\n",
       "    <tr>\n",
       "      <th>16</th>\n",
       "      <td>01/22/2020</td>\n",
       "      <td>Inner Mongolia</td>\n",
       "      <td>Mainland China</td>\n",
       "      <td>1/22/2020 17:00</td>\n",
       "      <td>0.0</td>\n",
       "      <td>0.0</td>\n",
       "      <td>0.0</td>\n",
       "    </tr>\n",
       "    <tr>\n",
       "      <th>19</th>\n",
       "      <td>01/22/2020</td>\n",
       "      <td>Jilin</td>\n",
       "      <td>Mainland China</td>\n",
       "      <td>1/22/2020 17:00</td>\n",
       "      <td>0.0</td>\n",
       "      <td>0.0</td>\n",
       "      <td>0.0</td>\n",
       "    </tr>\n",
       "    <tr>\n",
       "      <th>...</th>\n",
       "      <td>...</td>\n",
       "      <td>...</td>\n",
       "      <td>...</td>\n",
       "      <td>...</td>\n",
       "      <td>...</td>\n",
       "      <td>...</td>\n",
       "      <td>...</td>\n",
       "    </tr>\n",
       "    <tr>\n",
       "      <th>8779</th>\n",
       "      <td>03/25/2020</td>\n",
       "      <td>Recovered</td>\n",
       "      <td>US</td>\n",
       "      <td>2020-03-25 23:37:49</td>\n",
       "      <td>0.0</td>\n",
       "      <td>0.0</td>\n",
       "      <td>361.0</td>\n",
       "    </tr>\n",
       "    <tr>\n",
       "      <th>8986</th>\n",
       "      <td>03/26/2020</td>\n",
       "      <td>American Samoa</td>\n",
       "      <td>US</td>\n",
       "      <td>2020-03-26 23:53:24</td>\n",
       "      <td>0.0</td>\n",
       "      <td>0.0</td>\n",
       "      <td>0.0</td>\n",
       "    </tr>\n",
       "    <tr>\n",
       "      <th>9069</th>\n",
       "      <td>03/26/2020</td>\n",
       "      <td>Northern Mariana Islands</td>\n",
       "      <td>US</td>\n",
       "      <td>2020-03-26 23:53:24</td>\n",
       "      <td>0.0</td>\n",
       "      <td>0.0</td>\n",
       "      <td>0.0</td>\n",
       "    </tr>\n",
       "    <tr>\n",
       "      <th>9083</th>\n",
       "      <td>03/26/2020</td>\n",
       "      <td>Recovered</td>\n",
       "      <td>Canada</td>\n",
       "      <td>2020-03-26 23:53:24</td>\n",
       "      <td>0.0</td>\n",
       "      <td>0.0</td>\n",
       "      <td>184.0</td>\n",
       "    </tr>\n",
       "    <tr>\n",
       "      <th>9084</th>\n",
       "      <td>03/26/2020</td>\n",
       "      <td>Recovered</td>\n",
       "      <td>US</td>\n",
       "      <td>2020-03-26 23:53:24</td>\n",
       "      <td>0.0</td>\n",
       "      <td>0.0</td>\n",
       "      <td>681.0</td>\n",
       "    </tr>\n",
       "  </tbody>\n",
       "</table>\n",
       "<p>200 rows × 7 columns</p>\n",
       "</div>"
      ],
      "text/plain": [
       "     ObservationDate            Province/State  Country/Region  \\\n",
       "SNo                                                              \n",
       "5         01/22/2020                     Gansu  Mainland China   \n",
       "11        01/22/2020              Heilongjiang  Mainland China   \n",
       "13        01/22/2020                 Hong Kong       Hong Kong   \n",
       "16        01/22/2020            Inner Mongolia  Mainland China   \n",
       "19        01/22/2020                     Jilin  Mainland China   \n",
       "...              ...                       ...             ...   \n",
       "8779      03/25/2020                 Recovered              US   \n",
       "8986      03/26/2020            American Samoa              US   \n",
       "9069      03/26/2020  Northern Mariana Islands              US   \n",
       "9083      03/26/2020                 Recovered          Canada   \n",
       "9084      03/26/2020                 Recovered              US   \n",
       "\n",
       "              Last Update  Confirmed  Deaths  Recovered  \n",
       "SNo                                                      \n",
       "5         1/22/2020 17:00        0.0     0.0        0.0  \n",
       "11        1/22/2020 17:00        0.0     0.0        0.0  \n",
       "13        1/22/2020 17:00        0.0     0.0        0.0  \n",
       "16        1/22/2020 17:00        0.0     0.0        0.0  \n",
       "19        1/22/2020 17:00        0.0     0.0        0.0  \n",
       "...                   ...        ...     ...        ...  \n",
       "8779  2020-03-25 23:37:49        0.0     0.0      361.0  \n",
       "8986  2020-03-26 23:53:24        0.0     0.0        0.0  \n",
       "9069  2020-03-26 23:53:24        0.0     0.0        0.0  \n",
       "9083  2020-03-26 23:53:24        0.0     0.0      184.0  \n",
       "9084  2020-03-26 23:53:24        0.0     0.0      681.0  \n",
       "\n",
       "[200 rows x 7 columns]"
      ]
     },
     "execution_count": 21,
     "metadata": {},
     "output_type": "execute_result"
    }
   ],
   "source": [
    "df[(df['Deaths'] == 0) & (df['Confirmed'] == 0)]"
   ]
  },
  {
   "cell_type": "markdown",
   "metadata": {},
   "source": [
    "Se quisermos saber quanto exemplos satisfazem essas condições, é possível utilizar os operadores (que serão vistos logo mais) nesse novo dataframe filtrado:"
   ]
  },
  {
   "cell_type": "code",
   "execution_count": 22,
   "metadata": {},
   "outputs": [
    {
     "data": {
      "text/plain": [
       "ObservationDate    200\n",
       "Province/State     154\n",
       "Country/Region     200\n",
       "Last Update        200\n",
       "Confirmed          200\n",
       "Deaths             200\n",
       "Recovered          200\n",
       "dtype: int64"
      ]
     },
     "execution_count": 22,
     "metadata": {},
     "output_type": "execute_result"
    }
   ],
   "source": [
    "df[(df['Deaths'] == 0) & (df['Confirmed'] == 0)].count()"
   ]
  },
  {
   "cell_type": "markdown",
   "metadata": {},
   "source": [
    "Selecionemos, agora, os exemplos a respeito dos Estados Unidos ou no Brasil."
   ]
  },
  {
   "cell_type": "code",
   "execution_count": 23,
   "metadata": {},
   "outputs": [
    {
     "data": {
      "text/html": [
       "<div>\n",
       "<style scoped>\n",
       "    .dataframe tbody tr th:only-of-type {\n",
       "        vertical-align: middle;\n",
       "    }\n",
       "\n",
       "    .dataframe tbody tr th {\n",
       "        vertical-align: top;\n",
       "    }\n",
       "\n",
       "    .dataframe thead th {\n",
       "        text-align: right;\n",
       "    }\n",
       "</style>\n",
       "<table border=\"1\" class=\"dataframe\">\n",
       "  <thead>\n",
       "    <tr style=\"text-align: right;\">\n",
       "      <th></th>\n",
       "      <th>ObservationDate</th>\n",
       "      <th>Province/State</th>\n",
       "      <th>Country/Region</th>\n",
       "      <th>Last Update</th>\n",
       "      <th>Confirmed</th>\n",
       "      <th>Deaths</th>\n",
       "      <th>Recovered</th>\n",
       "    </tr>\n",
       "    <tr>\n",
       "      <th>SNo</th>\n",
       "      <th></th>\n",
       "      <th></th>\n",
       "      <th></th>\n",
       "      <th></th>\n",
       "      <th></th>\n",
       "      <th></th>\n",
       "      <th></th>\n",
       "    </tr>\n",
       "  </thead>\n",
       "  <tbody>\n",
       "    <tr>\n",
       "      <th>32</th>\n",
       "      <td>01/22/2020</td>\n",
       "      <td>Washington</td>\n",
       "      <td>US</td>\n",
       "      <td>1/22/2020 17:00</td>\n",
       "      <td>1.0</td>\n",
       "      <td>0.0</td>\n",
       "      <td>0.0</td>\n",
       "    </tr>\n",
       "    <tr>\n",
       "      <th>70</th>\n",
       "      <td>01/23/2020</td>\n",
       "      <td>Washington</td>\n",
       "      <td>US</td>\n",
       "      <td>1/23/20 17:00</td>\n",
       "      <td>1.0</td>\n",
       "      <td>0.0</td>\n",
       "      <td>0.0</td>\n",
       "    </tr>\n",
       "    <tr>\n",
       "      <th>83</th>\n",
       "      <td>01/23/2020</td>\n",
       "      <td>NaN</td>\n",
       "      <td>Brazil</td>\n",
       "      <td>1/23/20 17:00</td>\n",
       "      <td>0.0</td>\n",
       "      <td>0.0</td>\n",
       "      <td>0.0</td>\n",
       "    </tr>\n",
       "    <tr>\n",
       "      <th>118</th>\n",
       "      <td>01/24/2020</td>\n",
       "      <td>Washington</td>\n",
       "      <td>US</td>\n",
       "      <td>1/24/20 17:00</td>\n",
       "      <td>1.0</td>\n",
       "      <td>0.0</td>\n",
       "      <td>0.0</td>\n",
       "    </tr>\n",
       "    <tr>\n",
       "      <th>119</th>\n",
       "      <td>01/24/2020</td>\n",
       "      <td>Chicago</td>\n",
       "      <td>US</td>\n",
       "      <td>1/24/20 17:00</td>\n",
       "      <td>1.0</td>\n",
       "      <td>0.0</td>\n",
       "      <td>0.0</td>\n",
       "    </tr>\n",
       "    <tr>\n",
       "      <th>...</th>\n",
       "      <td>...</td>\n",
       "      <td>...</td>\n",
       "      <td>...</td>\n",
       "      <td>...</td>\n",
       "      <td>...</td>\n",
       "      <td>...</td>\n",
       "      <td>...</td>\n",
       "    </tr>\n",
       "    <tr>\n",
       "      <th>9108</th>\n",
       "      <td>03/26/2020</td>\n",
       "      <td>Virginia</td>\n",
       "      <td>US</td>\n",
       "      <td>2020-03-26 23:53:24</td>\n",
       "      <td>466.0</td>\n",
       "      <td>10.0</td>\n",
       "      <td>0.0</td>\n",
       "    </tr>\n",
       "    <tr>\n",
       "      <th>9109</th>\n",
       "      <td>03/26/2020</td>\n",
       "      <td>Washington</td>\n",
       "      <td>US</td>\n",
       "      <td>2020-03-26 23:53:24</td>\n",
       "      <td>3207.0</td>\n",
       "      <td>150.0</td>\n",
       "      <td>0.0</td>\n",
       "    </tr>\n",
       "    <tr>\n",
       "      <th>9110</th>\n",
       "      <td>03/26/2020</td>\n",
       "      <td>West Virginia</td>\n",
       "      <td>US</td>\n",
       "      <td>2020-03-26 23:53:24</td>\n",
       "      <td>52.0</td>\n",
       "      <td>0.0</td>\n",
       "      <td>0.0</td>\n",
       "    </tr>\n",
       "    <tr>\n",
       "      <th>9112</th>\n",
       "      <td>03/26/2020</td>\n",
       "      <td>Wisconsin</td>\n",
       "      <td>US</td>\n",
       "      <td>2020-03-26 23:53:24</td>\n",
       "      <td>728.0</td>\n",
       "      <td>10.0</td>\n",
       "      <td>0.0</td>\n",
       "    </tr>\n",
       "    <tr>\n",
       "      <th>9113</th>\n",
       "      <td>03/26/2020</td>\n",
       "      <td>Wyoming</td>\n",
       "      <td>US</td>\n",
       "      <td>2020-03-26 23:53:24</td>\n",
       "      <td>53.0</td>\n",
       "      <td>0.0</td>\n",
       "      <td>0.0</td>\n",
       "    </tr>\n",
       "  </tbody>\n",
       "</table>\n",
       "<p>1887 rows × 7 columns</p>\n",
       "</div>"
      ],
      "text/plain": [
       "     ObservationDate Province/State Country/Region          Last Update  \\\n",
       "SNo                                                                       \n",
       "32        01/22/2020     Washington             US      1/22/2020 17:00   \n",
       "70        01/23/2020     Washington             US        1/23/20 17:00   \n",
       "83        01/23/2020            NaN         Brazil        1/23/20 17:00   \n",
       "118       01/24/2020     Washington             US        1/24/20 17:00   \n",
       "119       01/24/2020        Chicago             US        1/24/20 17:00   \n",
       "...              ...            ...            ...                  ...   \n",
       "9108      03/26/2020       Virginia             US  2020-03-26 23:53:24   \n",
       "9109      03/26/2020     Washington             US  2020-03-26 23:53:24   \n",
       "9110      03/26/2020  West Virginia             US  2020-03-26 23:53:24   \n",
       "9112      03/26/2020      Wisconsin             US  2020-03-26 23:53:24   \n",
       "9113      03/26/2020        Wyoming             US  2020-03-26 23:53:24   \n",
       "\n",
       "      Confirmed  Deaths  Recovered  \n",
       "SNo                                 \n",
       "32          1.0     0.0        0.0  \n",
       "70          1.0     0.0        0.0  \n",
       "83          0.0     0.0        0.0  \n",
       "118         1.0     0.0        0.0  \n",
       "119         1.0     0.0        0.0  \n",
       "...         ...     ...        ...  \n",
       "9108      466.0    10.0        0.0  \n",
       "9109     3207.0   150.0        0.0  \n",
       "9110       52.0     0.0        0.0  \n",
       "9112      728.0    10.0        0.0  \n",
       "9113       53.0     0.0        0.0  \n",
       "\n",
       "[1887 rows x 7 columns]"
      ]
     },
     "execution_count": 23,
     "metadata": {},
     "output_type": "execute_result"
    }
   ],
   "source": [
    "df[(df['Country/Region'] == 'Brazil') | (df['Country/Region'] == 'US')]"
   ]
  },
  {
   "cell_type": "markdown",
   "metadata": {},
   "source": [
    "### Operações\n",
    "Podemos fazer diversas operações com os nossos dados. Muitas deles já são nativas do próprio Pandas, mas tabém podemos criar as nossas próprias."
   ]
  },
  {
   "cell_type": "markdown",
   "metadata": {},
   "source": [
    "Com funções nativas podemos somar todos os valores de cada uma das fetures, encontrar os valores máximo e mínimo, o desvio padrão, a média e muito mais."
   ]
  },
  {
   "cell_type": "code",
   "execution_count": 24,
   "metadata": {},
   "outputs": [
    {
     "data": {
      "text/plain": [
       "Confirmed    766.820774\n",
       "Deaths        28.791927\n",
       "Recovered    255.273994\n",
       "dtype: float64"
      ]
     },
     "execution_count": 24,
     "metadata": {},
     "output_type": "execute_result"
    }
   ],
   "source": [
    "# média\n",
    "df.mean()"
   ]
  },
  {
   "cell_type": "code",
   "execution_count": 25,
   "metadata": {},
   "outputs": [
    {
     "data": {
      "text/plain": [
       "Confirmed    5322.616735\n",
       "Deaths        283.310806\n",
       "Recovered    2838.560708\n",
       "dtype: float64"
      ]
     },
     "execution_count": 25,
     "metadata": {},
     "output_type": "execute_result"
    }
   ],
   "source": [
    "# desvio padrão\n",
    "df.std()"
   ]
  },
  {
   "cell_type": "code",
   "execution_count": 26,
   "metadata": {},
   "outputs": [
    {
     "data": {
      "text/plain": [
       "ObservationDate    01/22/202001/22/202001/22/202001/22/202001/22/...\n",
       "Country/Region     Mainland ChinaMainland ChinaMainland ChinaMain...\n",
       "Last Update        1/22/2020 17:001/22/2020 17:001/22/2020 17:001...\n",
       "Confirmed                                                6.99110e+06\n",
       "Deaths                                                        262496\n",
       "Recovered                                                2.32733e+06\n",
       "dtype: object"
      ]
     },
     "execution_count": 26,
     "metadata": {},
     "output_type": "execute_result"
    }
   ],
   "source": [
    "# soma\n",
    "df.sum()"
   ]
  },
  {
   "cell_type": "code",
   "execution_count": 27,
   "metadata": {},
   "outputs": [
    {
     "data": {
      "text/plain": [
       "ObservationDate                        03/26/2020\n",
       "Country/Region     occupied Palestinian territory\n",
       "Last Update                           3/8/20 5:31\n",
       "Confirmed                                   80589\n",
       "Deaths                                       8215\n",
       "Recovered                                   61201\n",
       "dtype: object"
      ]
     },
     "execution_count": 27,
     "metadata": {},
     "output_type": "execute_result"
    }
   ],
   "source": [
    "# máximo\n",
    "df.max()"
   ]
  },
  {
   "cell_type": "code",
   "execution_count": 28,
   "metadata": {},
   "outputs": [
    {
     "data": {
      "text/plain": [
       "ObservationDate         01/22/2020\n",
       "Country/Region          Azerbaijan\n",
       "Last Update        1/22/2020 17:00\n",
       "Confirmed                        0\n",
       "Deaths                           0\n",
       "Recovered                        0\n",
       "dtype: object"
      ]
     },
     "execution_count": 28,
     "metadata": {},
     "output_type": "execute_result"
    }
   ],
   "source": [
    "# mínimo\n",
    "df.min()"
   ]
  },
  {
   "cell_type": "code",
   "execution_count": 29,
   "metadata": {},
   "outputs": [
    {
     "data": {
      "text/plain": [
       "ObservationDate    9117\n",
       "Province/State     5029\n",
       "Country/Region     9117\n",
       "Last Update        9117\n",
       "Confirmed          9117\n",
       "Deaths             9117\n",
       "Recovered          9117\n",
       "dtype: int64"
      ]
     },
     "execution_count": 29,
     "metadata": {},
     "output_type": "execute_result"
    }
   ],
   "source": [
    "# contagem dos valores não nulos\n",
    "df.count()"
   ]
  },
  {
   "cell_type": "markdown",
   "metadata": {},
   "source": [
    "Se quisermos a média de apenas uma única feature, basta selecioná-la e utilizar o método:"
   ]
  },
  {
   "cell_type": "code",
   "execution_count": 30,
   "metadata": {},
   "outputs": [
    {
     "data": {
      "text/plain": [
       "766.8207743775365"
      ]
     },
     "execution_count": 30,
     "metadata": {},
     "output_type": "execute_result"
    }
   ],
   "source": [
    "df['Confirmed'].mean()"
   ]
  },
  {
   "cell_type": "markdown",
   "metadata": {},
   "source": [
    "Também é possível fazer operações com os valores das features.  \n",
    "\n",
    "No caso do dataset que estamos usando, temos a quantidade de casos confirmados e recuperados. Podemos utilizar essas informações para criar uma nova feature, a proporção entre confirmações e recuperações. Para isso basta dividir as features:"
   ]
  },
  {
   "cell_type": "code",
   "execution_count": 1,
   "metadata": {},
   "outputs": [
    {
     "ename": "NameError",
     "evalue": "name 'df' is not defined",
     "output_type": "error",
     "traceback": [
      "\u001b[0;31m---------------------------------------------------------------------------\u001b[0m",
      "\u001b[0;31mNameError\u001b[0m                                 Traceback (most recent call last)",
      "\u001b[0;32m<ipython-input-1-96b51cabd21d>\u001b[0m in \u001b[0;36m<module>\u001b[0;34m\u001b[0m\n\u001b[0;32m----> 1\u001b[0;31m \u001b[0mdf\u001b[0m\u001b[0;34m[\u001b[0m\u001b[0;34m'Proportion'\u001b[0m\u001b[0;34m]\u001b[0m \u001b[0;34m=\u001b[0m \u001b[0mdf\u001b[0m\u001b[0;34m[\u001b[0m\u001b[0;34m'Recovered'\u001b[0m\u001b[0;34m]\u001b[0m \u001b[0;34m/\u001b[0m \u001b[0mdf\u001b[0m\u001b[0;34m[\u001b[0m\u001b[0;34m'Confirmed'\u001b[0m\u001b[0;34m]\u001b[0m\u001b[0;34m\u001b[0m\u001b[0;34m\u001b[0m\u001b[0m\n\u001b[0m\u001b[1;32m      2\u001b[0m \u001b[0mdf\u001b[0m\u001b[0;34m.\u001b[0m\u001b[0mhead\u001b[0m\u001b[0;34m(\u001b[0m\u001b[0;34m)\u001b[0m\u001b[0;34m\u001b[0m\u001b[0;34m\u001b[0m\u001b[0m\n",
      "\u001b[0;31mNameError\u001b[0m: name 'df' is not defined"
     ]
    }
   ],
   "source": [
    "df['Proportion'] = df['Recovered'] / df['Confirmed']\n",
    "df.head()"
   ]
  },
  {
   "cell_type": "markdown",
   "metadata": {},
   "source": [
    "Podemos ver se a operação deu certo utilizando uma indexação booleana:"
   ]
  },
  {
   "cell_type": "code",
   "execution_count": 32,
   "metadata": {},
   "outputs": [
    {
     "data": {
      "text/html": [
       "<div>\n",
       "<style scoped>\n",
       "    .dataframe tbody tr th:only-of-type {\n",
       "        vertical-align: middle;\n",
       "    }\n",
       "\n",
       "    .dataframe tbody tr th {\n",
       "        vertical-align: top;\n",
       "    }\n",
       "\n",
       "    .dataframe thead th {\n",
       "        text-align: right;\n",
       "    }\n",
       "</style>\n",
       "<table border=\"1\" class=\"dataframe\">\n",
       "  <thead>\n",
       "    <tr style=\"text-align: right;\">\n",
       "      <th></th>\n",
       "      <th>ObservationDate</th>\n",
       "      <th>Province/State</th>\n",
       "      <th>Country/Region</th>\n",
       "      <th>Last Update</th>\n",
       "      <th>Confirmed</th>\n",
       "      <th>Deaths</th>\n",
       "      <th>Recovered</th>\n",
       "      <th>Proportion</th>\n",
       "    </tr>\n",
       "    <tr>\n",
       "      <th>SNo</th>\n",
       "      <th></th>\n",
       "      <th></th>\n",
       "      <th></th>\n",
       "      <th></th>\n",
       "      <th></th>\n",
       "      <th></th>\n",
       "      <th></th>\n",
       "      <th></th>\n",
       "    </tr>\n",
       "  </thead>\n",
       "  <tbody>\n",
       "    <tr>\n",
       "      <th>14</th>\n",
       "      <td>01/22/2020</td>\n",
       "      <td>Hubei</td>\n",
       "      <td>Mainland China</td>\n",
       "      <td>1/22/2020 17:00</td>\n",
       "      <td>444.0</td>\n",
       "      <td>17.0</td>\n",
       "      <td>28.0</td>\n",
       "      <td>0.063063</td>\n",
       "    </tr>\n",
       "    <tr>\n",
       "      <th>44</th>\n",
       "      <td>01/23/2020</td>\n",
       "      <td>Guangdong</td>\n",
       "      <td>Mainland China</td>\n",
       "      <td>1/23/20 17:00</td>\n",
       "      <td>32.0</td>\n",
       "      <td>0.0</td>\n",
       "      <td>2.0</td>\n",
       "      <td>0.062500</td>\n",
       "    </tr>\n",
       "    <tr>\n",
       "      <th>52</th>\n",
       "      <td>01/23/2020</td>\n",
       "      <td>Hubei</td>\n",
       "      <td>Mainland China</td>\n",
       "      <td>1/23/20 17:00</td>\n",
       "      <td>444.0</td>\n",
       "      <td>17.0</td>\n",
       "      <td>28.0</td>\n",
       "      <td>0.063063</td>\n",
       "    </tr>\n",
       "    <tr>\n",
       "      <th>85</th>\n",
       "      <td>01/24/2020</td>\n",
       "      <td>Hubei</td>\n",
       "      <td>Mainland China</td>\n",
       "      <td>1/24/20 17:00</td>\n",
       "      <td>549.0</td>\n",
       "      <td>24.0</td>\n",
       "      <td>31.0</td>\n",
       "      <td>0.056466</td>\n",
       "    </tr>\n",
       "    <tr>\n",
       "      <th>86</th>\n",
       "      <td>01/24/2020</td>\n",
       "      <td>Guangdong</td>\n",
       "      <td>Mainland China</td>\n",
       "      <td>1/24/20 17:00</td>\n",
       "      <td>53.0</td>\n",
       "      <td>0.0</td>\n",
       "      <td>2.0</td>\n",
       "      <td>0.037736</td>\n",
       "    </tr>\n",
       "    <tr>\n",
       "      <th>...</th>\n",
       "      <td>...</td>\n",
       "      <td>...</td>\n",
       "      <td>...</td>\n",
       "      <td>...</td>\n",
       "      <td>...</td>\n",
       "      <td>...</td>\n",
       "      <td>...</td>\n",
       "      <td>...</td>\n",
       "    </tr>\n",
       "    <tr>\n",
       "      <th>9106</th>\n",
       "      <td>03/26/2020</td>\n",
       "      <td>Victoria</td>\n",
       "      <td>Australia</td>\n",
       "      <td>2020-03-26 23:53:24</td>\n",
       "      <td>520.0</td>\n",
       "      <td>3.0</td>\n",
       "      <td>149.0</td>\n",
       "      <td>0.286538</td>\n",
       "    </tr>\n",
       "    <tr>\n",
       "      <th>9111</th>\n",
       "      <td>03/26/2020</td>\n",
       "      <td>Western Australia</td>\n",
       "      <td>Australia</td>\n",
       "      <td>2020-03-26 23:53:24</td>\n",
       "      <td>231.0</td>\n",
       "      <td>2.0</td>\n",
       "      <td>1.0</td>\n",
       "      <td>0.004329</td>\n",
       "    </tr>\n",
       "    <tr>\n",
       "      <th>9114</th>\n",
       "      <td>03/26/2020</td>\n",
       "      <td>Xinjiang</td>\n",
       "      <td>Mainland China</td>\n",
       "      <td>2020-03-26 23:53:24</td>\n",
       "      <td>76.0</td>\n",
       "      <td>3.0</td>\n",
       "      <td>73.0</td>\n",
       "      <td>0.960526</td>\n",
       "    </tr>\n",
       "    <tr>\n",
       "      <th>9116</th>\n",
       "      <td>03/26/2020</td>\n",
       "      <td>Yunnan</td>\n",
       "      <td>Mainland China</td>\n",
       "      <td>2020-03-26 23:53:24</td>\n",
       "      <td>178.0</td>\n",
       "      <td>2.0</td>\n",
       "      <td>172.0</td>\n",
       "      <td>0.966292</td>\n",
       "    </tr>\n",
       "    <tr>\n",
       "      <th>9117</th>\n",
       "      <td>03/26/2020</td>\n",
       "      <td>Zhejiang</td>\n",
       "      <td>Mainland China</td>\n",
       "      <td>2020-03-26 23:53:24</td>\n",
       "      <td>1243.0</td>\n",
       "      <td>1.0</td>\n",
       "      <td>1222.0</td>\n",
       "      <td>0.983105</td>\n",
       "    </tr>\n",
       "  </tbody>\n",
       "</table>\n",
       "<p>4354 rows × 8 columns</p>\n",
       "</div>"
      ],
      "text/plain": [
       "     ObservationDate     Province/State  Country/Region          Last Update  \\\n",
       "SNo                                                                            \n",
       "14        01/22/2020              Hubei  Mainland China      1/22/2020 17:00   \n",
       "44        01/23/2020          Guangdong  Mainland China        1/23/20 17:00   \n",
       "52        01/23/2020              Hubei  Mainland China        1/23/20 17:00   \n",
       "85        01/24/2020              Hubei  Mainland China        1/24/20 17:00   \n",
       "86        01/24/2020          Guangdong  Mainland China        1/24/20 17:00   \n",
       "...              ...                ...             ...                  ...   \n",
       "9106      03/26/2020           Victoria       Australia  2020-03-26 23:53:24   \n",
       "9111      03/26/2020  Western Australia       Australia  2020-03-26 23:53:24   \n",
       "9114      03/26/2020           Xinjiang  Mainland China  2020-03-26 23:53:24   \n",
       "9116      03/26/2020             Yunnan  Mainland China  2020-03-26 23:53:24   \n",
       "9117      03/26/2020           Zhejiang  Mainland China  2020-03-26 23:53:24   \n",
       "\n",
       "      Confirmed  Deaths  Recovered  Proportion  \n",
       "SNo                                             \n",
       "14        444.0    17.0       28.0    0.063063  \n",
       "44         32.0     0.0        2.0    0.062500  \n",
       "52        444.0    17.0       28.0    0.063063  \n",
       "85        549.0    24.0       31.0    0.056466  \n",
       "86         53.0     0.0        2.0    0.037736  \n",
       "...         ...     ...        ...         ...  \n",
       "9106      520.0     3.0      149.0    0.286538  \n",
       "9111      231.0     2.0        1.0    0.004329  \n",
       "9114       76.0     3.0       73.0    0.960526  \n",
       "9116      178.0     2.0      172.0    0.966292  \n",
       "9117     1243.0     1.0     1222.0    0.983105  \n",
       "\n",
       "[4354 rows x 8 columns]"
      ]
     },
     "execution_count": 32,
     "metadata": {},
     "output_type": "execute_result"
    }
   ],
   "source": [
    "df[df['Proportion'] > 0]"
   ]
  },
  {
   "cell_type": "markdown",
   "metadata": {},
   "source": [
    "### Apply\n",
    "\n",
    "Pode ser necessário aplicar uma operação que não está definida na biblioteca aos exemplos. Se quisermos, por exemplo, iterar sobre todas as linhas e deixar os nomes de todos os países com letras minúsculas.\n",
    "Poderíamos pensar em utilizar uma estrutura de repetição para criar essa nova feature, iterando sobre cada uma das linhas do dataframe. Essa solução não está errada."
   ]
  },
  {
   "cell_type": "code",
   "execution_count": 33,
   "metadata": {},
   "outputs": [
    {
     "name": "stdout",
     "output_type": "stream",
     "text": [
      "CPU times: user 1.27 s, sys: 1.35 ms, total: 1.27 s\n",
      "Wall time: 1.27 s\n"
     ]
    }
   ],
   "source": [
    "%%time\n",
    "\n",
    "for i in range(df.shape[0]):\n",
    "    new_value = df.iloc[i]['Country/Region'].lower()\n",
    "    df['Country/Region'].iat[i] = new_value"
   ]
  },
  {
   "cell_type": "markdown",
   "metadata": {},
   "source": [
    "Porém existe uma forma mais elegante e eficiente de fazer tal operação: usando o método **apply**. Com ele podemos aplicar uma função a cada uma das linhas do dataframe:"
   ]
  },
  {
   "cell_type": "code",
   "execution_count": 34,
   "metadata": {},
   "outputs": [
    {
     "name": "stdout",
     "output_type": "stream",
     "text": [
      "CPU times: user 7.69 ms, sys: 0 ns, total: 7.69 ms\n",
      "Wall time: 7.54 ms\n"
     ]
    },
    {
     "data": {
      "text/plain": [
       "SNo\n",
       "1       mainland china\n",
       "2       mainland china\n",
       "3       mainland china\n",
       "4       mainland china\n",
       "5       mainland china\n",
       "             ...      \n",
       "9113                us\n",
       "9114    mainland china\n",
       "9115            canada\n",
       "9116    mainland china\n",
       "9117    mainland china\n",
       "Name: Country/Region, Length: 9117, dtype: object"
      ]
     },
     "execution_count": 34,
     "metadata": {},
     "output_type": "execute_result"
    }
   ],
   "source": [
    "%%time\n",
    "\n",
    "df['Country/Region'].apply(lambda x : x.lower())"
   ]
  },
  {
   "cell_type": "markdown",
   "metadata": {},
   "source": [
    "### Funções Úteis\n",
    "Existem diversas funções que auxiliam a análise dos dados. Vamos ver algumas delas:"
   ]
  },
  {
   "cell_type": "markdown",
   "metadata": {},
   "source": [
    "O método **info** dá informações sobre o Dataframe incluindo os tipos do index e das colunas, valores não nulos e uso de memória:"
   ]
  },
  {
   "cell_type": "code",
   "execution_count": 35,
   "metadata": {},
   "outputs": [
    {
     "name": "stdout",
     "output_type": "stream",
     "text": [
      "<class 'pandas.core.frame.DataFrame'>\n",
      "Int64Index: 9117 entries, 1 to 9117\n",
      "Data columns (total 8 columns):\n",
      " #   Column           Non-Null Count  Dtype  \n",
      "---  ------           --------------  -----  \n",
      " 0   ObservationDate  9117 non-null   object \n",
      " 1   Province/State   5029 non-null   object \n",
      " 2   Country/Region   9117 non-null   object \n",
      " 3   Last Update      9117 non-null   object \n",
      " 4   Confirmed        9117 non-null   float64\n",
      " 5   Deaths           9117 non-null   float64\n",
      " 6   Recovered        9117 non-null   float64\n",
      " 7   Proportion       8918 non-null   float64\n",
      "dtypes: float64(4), object(4)\n",
      "memory usage: 961.0+ KB\n"
     ]
    }
   ],
   "source": [
    "df.info()"
   ]
  },
  {
   "cell_type": "markdown",
   "metadata": {},
   "source": [
    "Já vimos antes, mas temos a função **describe**, que nos dá um breve resumo estatístico sobre as features do dataframe:"
   ]
  },
  {
   "cell_type": "code",
   "execution_count": null,
   "metadata": {},
   "outputs": [],
   "source": [
    "df.describe()"
   ]
  },
  {
   "cell_type": "markdown",
   "metadata": {},
   "source": [
    "Também é possível ver os valores únicos que uma feature pode assumir utilizando o **unique**:"
   ]
  },
  {
   "cell_type": "code",
   "execution_count": 36,
   "metadata": {
    "collapsed": true
   },
   "outputs": [
    {
     "data": {
      "text/plain": [
       "array(['mainland china', 'hong kong', 'macau', 'taiwan', 'us', 'japan',\n",
       "       'thailand', 'south korea', 'singapore', 'philippines', 'malaysia',\n",
       "       'vietnam', 'australia', 'mexico', 'brazil', 'colombia', 'france',\n",
       "       'nepal', 'canada', 'cambodia', 'sri lanka', 'ivory coast',\n",
       "       'germany', 'finland', 'united arab emirates', 'india', 'italy',\n",
       "       'uk', 'russia', 'sweden', 'spain', 'belgium', 'others', 'egypt',\n",
       "       'iran', 'israel', 'lebanon', 'iraq', 'oman', 'afghanistan',\n",
       "       'bahrain', 'kuwait', 'austria', 'algeria', 'croatia',\n",
       "       'switzerland', 'pakistan', 'georgia', 'greece', 'north macedonia',\n",
       "       'norway', 'romania', 'denmark', 'estonia', 'netherlands',\n",
       "       'san marino', ' azerbaijan', 'belarus', 'iceland', 'lithuania',\n",
       "       'new zealand', 'nigeria', 'north ireland', 'ireland', 'luxembourg',\n",
       "       'monaco', 'qatar', 'ecuador', 'azerbaijan', 'czech republic',\n",
       "       'armenia', 'dominican republic', 'indonesia', 'portugal',\n",
       "       'andorra', 'latvia', 'morocco', 'saudi arabia', 'senegal',\n",
       "       'argentina', 'chile', 'jordan', 'ukraine', 'saint barthelemy',\n",
       "       'hungary', 'faroe islands', 'gibraltar', 'liechtenstein', 'poland',\n",
       "       'tunisia', 'palestine', 'bosnia and herzegovina', 'slovenia',\n",
       "       'south africa', 'bhutan', 'cameroon', 'costa rica', 'peru',\n",
       "       'serbia', 'slovakia', 'togo', 'vatican city', 'french guiana',\n",
       "       'malta', 'martinique', 'republic of ireland', 'bulgaria',\n",
       "       'maldives', 'bangladesh', 'moldova', 'paraguay', 'albania',\n",
       "       'cyprus', 'st. martin', 'brunei', 'occupied palestinian territory',\n",
       "       \"('st. martin',)\", 'burkina faso', 'channel islands', 'holy see',\n",
       "       'mongolia', 'panama', 'bolivia', 'honduras', 'congo (kinshasa)',\n",
       "       'jamaica', 'reunion', 'turkey', 'cuba', 'guyana', 'kazakhstan',\n",
       "       'cayman islands', 'guadeloupe', 'ethiopia', 'sudan', 'guinea',\n",
       "       'antigua and barbuda', 'aruba', 'kenya', 'uruguay', 'ghana',\n",
       "       'jersey', 'namibia', 'seychelles', 'trinidad and tobago',\n",
       "       'venezuela', 'curacao', 'eswatini', 'gabon', 'guatemala',\n",
       "       'guernsey', 'mauritania', 'rwanda', 'saint lucia',\n",
       "       'saint vincent and the grenadines', 'suriname', 'kosovo',\n",
       "       'central african republic', 'congo (brazzaville)',\n",
       "       'equatorial guinea', 'uzbekistan', 'guam', 'puerto rico', 'benin',\n",
       "       'greenland', 'liberia', 'mayotte', 'republic of the congo',\n",
       "       'somalia', 'tanzania', 'the bahamas', 'barbados', 'montenegro',\n",
       "       'the gambia', 'kyrgyzstan', 'mauritius', 'zambia', 'djibouti',\n",
       "       'gambia, the', 'bahamas, the', 'chad', 'el salvador', 'fiji',\n",
       "       'nicaragua', 'madagascar', 'haiti', 'angola', 'cabo verde',\n",
       "       'niger', 'papua new guinea', 'zimbabwe', 'cape verde',\n",
       "       'east timor', 'eritrea', 'uganda', 'bahamas', 'dominica', 'gambia',\n",
       "       'grenada', 'mozambique', 'syria', 'timor-leste', 'belize', 'laos',\n",
       "       'libya', 'diamond princess', 'guinea-bissau', 'mali',\n",
       "       'saint kitts and nevis', 'west bank and gaza'], dtype=object)"
      ]
     },
     "execution_count": 36,
     "metadata": {},
     "output_type": "execute_result"
    }
   ],
   "source": [
    "df['Country/Region'].unique()"
   ]
  },
  {
   "cell_type": "code",
   "execution_count": 37,
   "metadata": {
    "collapsed": true
   },
   "outputs": [
    {
     "data": {
      "text/plain": [
       "array(['01/22/2020', '01/23/2020', '01/24/2020', '01/25/2020',\n",
       "       '01/26/2020', '01/27/2020', '01/28/2020', '01/29/2020',\n",
       "       '01/30/2020', '01/31/2020', '02/01/2020', '02/02/2020',\n",
       "       '02/03/2020', '02/04/2020', '02/05/2020', '02/06/2020',\n",
       "       '02/07/2020', '02/08/2020', '02/09/2020', '02/10/2020',\n",
       "       '02/11/2020', '02/12/2020', '02/13/2020', '02/14/2020',\n",
       "       '02/15/2020', '02/16/2020', '02/17/2020', '02/18/2020',\n",
       "       '02/19/2020', '02/20/2020', '02/21/2020', '02/22/2020',\n",
       "       '02/23/2020', '02/24/2020', '02/25/2020', '02/26/2020',\n",
       "       '02/27/2020', '02/28/2020', '02/29/2020', '03/01/2020',\n",
       "       '03/02/2020', '03/03/2020', '03/04/2020', '03/05/2020',\n",
       "       '03/06/2020', '03/07/2020', '03/08/2020', '03/09/2020',\n",
       "       '03/10/2020', '03/11/2020', '03/12/2020', '03/13/2020',\n",
       "       '03/14/2020', '03/15/2020', '03/16/2020', '03/17/2020',\n",
       "       '03/18/2020', '03/19/2020', '03/20/2020', '03/21/2020',\n",
       "       '03/22/2020', '03/23/2020', '03/24/2020', '03/25/2020',\n",
       "       '03/26/2020'], dtype=object)"
      ]
     },
     "execution_count": 37,
     "metadata": {},
     "output_type": "execute_result"
    }
   ],
   "source": [
    "df['ObservationDate'].unique()"
   ]
  },
  {
   "cell_type": "markdown",
   "metadata": {},
   "source": [
    "Podemos contar, para cada valor único da feature, quantos exemplo são desse tipo com o método **value_counts**, isto é, gerar um histograma:"
   ]
  },
  {
   "cell_type": "code",
   "execution_count": 38,
   "metadata": {},
   "outputs": [
    {
     "data": {
      "text/plain": [
       "mainland china         2013\n",
       "us                     1856\n",
       "australia               356\n",
       "canada                  308\n",
       "france                  167\n",
       "                       ... \n",
       "st. martin                1\n",
       "channel islands           1\n",
       "('st. martin',)           1\n",
       "east timor                1\n",
       "republic of ireland       1\n",
       "Name: Country/Region, Length: 210, dtype: int64"
      ]
     },
     "execution_count": 38,
     "metadata": {},
     "output_type": "execute_result"
    }
   ],
   "source": [
    "df['Country/Region'].value_counts()"
   ]
  },
  {
   "cell_type": "markdown",
   "metadata": {},
   "source": [
    "Utilizando o value_counts, podemos selecionar os valores mais frequentes. Se quisermos, por exemplo, ver quais são os 10 países mais frequentes no Dataframe:"
   ]
  },
  {
   "cell_type": "code",
   "execution_count": 39,
   "metadata": {},
   "outputs": [
    {
     "data": {
      "text/plain": [
       "mainland china    2013\n",
       "us                1856\n",
       "australia          356\n",
       "canada             308\n",
       "france             167\n",
       "uk                 123\n",
       "south korea         65\n",
       "thailand            65\n",
       "taiwan              65\n",
       "japan               65\n",
       "Name: Country/Region, dtype: int64"
      ]
     },
     "execution_count": 39,
     "metadata": {},
     "output_type": "execute_result"
    }
   ],
   "source": [
    "df['Country/Region'].value_counts()[:10]"
   ]
  },
  {
   "cell_type": "markdown",
   "metadata": {},
   "source": [
    "### Dados faltantes\n",
    "Em geral, quando utilizamos tabelas reais, temos muitos valores faltantes. Isso significa que, para alguns exemplos, não temos informações para algumas de suas features.  \n",
    "Como cientistas de dados, é importante que saibamos encontrar tais dados e lidar com eles."
   ]
  },
  {
   "cell_type": "markdown",
   "metadata": {},
   "source": [
    "É possível ver, para cada exemplo, quais são as features que tem valores faltantes:"
   ]
  },
  {
   "cell_type": "code",
   "execution_count": 40,
   "metadata": {},
   "outputs": [
    {
     "data": {
      "text/html": [
       "<div>\n",
       "<style scoped>\n",
       "    .dataframe tbody tr th:only-of-type {\n",
       "        vertical-align: middle;\n",
       "    }\n",
       "\n",
       "    .dataframe tbody tr th {\n",
       "        vertical-align: top;\n",
       "    }\n",
       "\n",
       "    .dataframe thead th {\n",
       "        text-align: right;\n",
       "    }\n",
       "</style>\n",
       "<table border=\"1\" class=\"dataframe\">\n",
       "  <thead>\n",
       "    <tr style=\"text-align: right;\">\n",
       "      <th></th>\n",
       "      <th>ObservationDate</th>\n",
       "      <th>Province/State</th>\n",
       "      <th>Country/Region</th>\n",
       "      <th>Last Update</th>\n",
       "      <th>Confirmed</th>\n",
       "      <th>Deaths</th>\n",
       "      <th>Recovered</th>\n",
       "      <th>Proportion</th>\n",
       "    </tr>\n",
       "    <tr>\n",
       "      <th>SNo</th>\n",
       "      <th></th>\n",
       "      <th></th>\n",
       "      <th></th>\n",
       "      <th></th>\n",
       "      <th></th>\n",
       "      <th></th>\n",
       "      <th></th>\n",
       "      <th></th>\n",
       "    </tr>\n",
       "  </thead>\n",
       "  <tbody>\n",
       "    <tr>\n",
       "      <th>1</th>\n",
       "      <td>False</td>\n",
       "      <td>False</td>\n",
       "      <td>False</td>\n",
       "      <td>False</td>\n",
       "      <td>False</td>\n",
       "      <td>False</td>\n",
       "      <td>False</td>\n",
       "      <td>False</td>\n",
       "    </tr>\n",
       "    <tr>\n",
       "      <th>2</th>\n",
       "      <td>False</td>\n",
       "      <td>False</td>\n",
       "      <td>False</td>\n",
       "      <td>False</td>\n",
       "      <td>False</td>\n",
       "      <td>False</td>\n",
       "      <td>False</td>\n",
       "      <td>False</td>\n",
       "    </tr>\n",
       "    <tr>\n",
       "      <th>3</th>\n",
       "      <td>False</td>\n",
       "      <td>False</td>\n",
       "      <td>False</td>\n",
       "      <td>False</td>\n",
       "      <td>False</td>\n",
       "      <td>False</td>\n",
       "      <td>False</td>\n",
       "      <td>False</td>\n",
       "    </tr>\n",
       "    <tr>\n",
       "      <th>4</th>\n",
       "      <td>False</td>\n",
       "      <td>False</td>\n",
       "      <td>False</td>\n",
       "      <td>False</td>\n",
       "      <td>False</td>\n",
       "      <td>False</td>\n",
       "      <td>False</td>\n",
       "      <td>False</td>\n",
       "    </tr>\n",
       "    <tr>\n",
       "      <th>5</th>\n",
       "      <td>False</td>\n",
       "      <td>False</td>\n",
       "      <td>False</td>\n",
       "      <td>False</td>\n",
       "      <td>False</td>\n",
       "      <td>False</td>\n",
       "      <td>False</td>\n",
       "      <td>True</td>\n",
       "    </tr>\n",
       "    <tr>\n",
       "      <th>...</th>\n",
       "      <td>...</td>\n",
       "      <td>...</td>\n",
       "      <td>...</td>\n",
       "      <td>...</td>\n",
       "      <td>...</td>\n",
       "      <td>...</td>\n",
       "      <td>...</td>\n",
       "      <td>...</td>\n",
       "    </tr>\n",
       "    <tr>\n",
       "      <th>9113</th>\n",
       "      <td>False</td>\n",
       "      <td>False</td>\n",
       "      <td>False</td>\n",
       "      <td>False</td>\n",
       "      <td>False</td>\n",
       "      <td>False</td>\n",
       "      <td>False</td>\n",
       "      <td>False</td>\n",
       "    </tr>\n",
       "    <tr>\n",
       "      <th>9114</th>\n",
       "      <td>False</td>\n",
       "      <td>False</td>\n",
       "      <td>False</td>\n",
       "      <td>False</td>\n",
       "      <td>False</td>\n",
       "      <td>False</td>\n",
       "      <td>False</td>\n",
       "      <td>False</td>\n",
       "    </tr>\n",
       "    <tr>\n",
       "      <th>9115</th>\n",
       "      <td>False</td>\n",
       "      <td>False</td>\n",
       "      <td>False</td>\n",
       "      <td>False</td>\n",
       "      <td>False</td>\n",
       "      <td>False</td>\n",
       "      <td>False</td>\n",
       "      <td>False</td>\n",
       "    </tr>\n",
       "    <tr>\n",
       "      <th>9116</th>\n",
       "      <td>False</td>\n",
       "      <td>False</td>\n",
       "      <td>False</td>\n",
       "      <td>False</td>\n",
       "      <td>False</td>\n",
       "      <td>False</td>\n",
       "      <td>False</td>\n",
       "      <td>False</td>\n",
       "    </tr>\n",
       "    <tr>\n",
       "      <th>9117</th>\n",
       "      <td>False</td>\n",
       "      <td>False</td>\n",
       "      <td>False</td>\n",
       "      <td>False</td>\n",
       "      <td>False</td>\n",
       "      <td>False</td>\n",
       "      <td>False</td>\n",
       "      <td>False</td>\n",
       "    </tr>\n",
       "  </tbody>\n",
       "</table>\n",
       "<p>9117 rows × 8 columns</p>\n",
       "</div>"
      ],
      "text/plain": [
       "      ObservationDate  Province/State  Country/Region  Last Update  Confirmed  \\\n",
       "SNo                                                                             \n",
       "1               False           False           False        False      False   \n",
       "2               False           False           False        False      False   \n",
       "3               False           False           False        False      False   \n",
       "4               False           False           False        False      False   \n",
       "5               False           False           False        False      False   \n",
       "...               ...             ...             ...          ...        ...   \n",
       "9113            False           False           False        False      False   \n",
       "9114            False           False           False        False      False   \n",
       "9115            False           False           False        False      False   \n",
       "9116            False           False           False        False      False   \n",
       "9117            False           False           False        False      False   \n",
       "\n",
       "      Deaths  Recovered  Proportion  \n",
       "SNo                                  \n",
       "1      False      False       False  \n",
       "2      False      False       False  \n",
       "3      False      False       False  \n",
       "4      False      False       False  \n",
       "5      False      False        True  \n",
       "...      ...        ...         ...  \n",
       "9113   False      False       False  \n",
       "9114   False      False       False  \n",
       "9115   False      False       False  \n",
       "9116   False      False       False  \n",
       "9117   False      False       False  \n",
       "\n",
       "[9117 rows x 8 columns]"
      ]
     },
     "execution_count": 40,
     "metadata": {},
     "output_type": "execute_result"
    }
   ],
   "source": [
    "df.isna()"
   ]
  },
  {
   "cell_type": "markdown",
   "metadata": {},
   "source": [
    "Podemos somar as colunas que indicam se o dado é faltante ou não, o que nos dá uma contagem desses valores. "
   ]
  },
  {
   "cell_type": "code",
   "execution_count": 41,
   "metadata": {},
   "outputs": [
    {
     "data": {
      "text/plain": [
       "ObservationDate       0\n",
       "Province/State     4088\n",
       "Country/Region        0\n",
       "Last Update           0\n",
       "Confirmed             0\n",
       "Deaths                0\n",
       "Recovered             0\n",
       "Proportion          199\n",
       "dtype: int64"
      ]
     },
     "execution_count": 41,
     "metadata": {},
     "output_type": "execute_result"
    }
   ],
   "source": [
    "df.isna().sum()"
   ]
  },
  {
   "cell_type": "markdown",
   "metadata": {},
   "source": [
    "É possível lidar com esses valores nulos de diversas formas. Uma delas é apenas ignorar os exemplos que possuem valores nulos, removendo-os do dataframe. Essa função é não é o que chamados de *inplace*, ou seja, as alterações que ela faz são retornadas como uma cópia do dataframe, não alterando-o diretamente.\n",
    "\n",
    "Vimos acima que temos apenas duas features com valores nulos: Province/State e Proportion. Os valores faltantes de Province/State já vieram assim no arquivo que utilizamos, já os faltantes de Proportion surgiram quando fizemos uma divisão por zero ao gerar a nova feature.  \n",
    "\n",
    "Por hora vamos ignorar as linhas que tem sua província/estado nula:"
   ]
  },
  {
   "cell_type": "code",
   "execution_count": 42,
   "metadata": {},
   "outputs": [
    {
     "name": "stdout",
     "output_type": "stream",
     "text": [
      "Dimensões antes de excluir linhas:  (9117, 8)\n",
      "Dimensões após de excluir linhas:  (5029, 8)\n"
     ]
    }
   ],
   "source": [
    "print('Dimensões antes de excluir linhas: ', df.shape)\n",
    "df = df.dropna(subset = ['Province/State'])\n",
    "print('Dimensões após de excluir linhas: ', df.shape)"
   ]
  },
  {
   "cell_type": "markdown",
   "metadata": {},
   "source": [
    "Note que antes nossas dimensões eram (11341, 8) e passaram a ser (7746, 8), justamente pois excluimos as linhas que não tinham a informação do Estado.  \n",
    "\n",
    "Vamos ver quantos valores nulos temos agora:"
   ]
  },
  {
   "cell_type": "code",
   "execution_count": 43,
   "metadata": {},
   "outputs": [
    {
     "data": {
      "text/plain": [
       "ObservationDate      0\n",
       "Province/State       0\n",
       "Country/Region       0\n",
       "Last Update          0\n",
       "Confirmed            0\n",
       "Deaths               0\n",
       "Recovered            0\n",
       "Proportion         153\n",
       "dtype: int64"
      ]
     },
     "execution_count": 43,
     "metadata": {},
     "output_type": "execute_result"
    }
   ],
   "source": [
    "df.isna().sum()"
   ]
  },
  {
   "cell_type": "markdown",
   "metadata": {},
   "source": [
    "Ainda temos proporções que são valores nulos. Vamos lidar com esses valores de outra forma: substituindo-os. Vamos substituir os valores faltantes pela média dos valores existentes em cada uma das features."
   ]
  },
  {
   "cell_type": "code",
   "execution_count": 44,
   "metadata": {},
   "outputs": [
    {
     "data": {
      "text/html": [
       "<div>\n",
       "<style scoped>\n",
       "    .dataframe tbody tr th:only-of-type {\n",
       "        vertical-align: middle;\n",
       "    }\n",
       "\n",
       "    .dataframe tbody tr th {\n",
       "        vertical-align: top;\n",
       "    }\n",
       "\n",
       "    .dataframe thead th {\n",
       "        text-align: right;\n",
       "    }\n",
       "</style>\n",
       "<table border=\"1\" class=\"dataframe\">\n",
       "  <thead>\n",
       "    <tr style=\"text-align: right;\">\n",
       "      <th></th>\n",
       "      <th>ObservationDate</th>\n",
       "      <th>Province/State</th>\n",
       "      <th>Country/Region</th>\n",
       "      <th>Last Update</th>\n",
       "      <th>Confirmed</th>\n",
       "      <th>Deaths</th>\n",
       "      <th>Recovered</th>\n",
       "      <th>Proportion</th>\n",
       "    </tr>\n",
       "    <tr>\n",
       "      <th>SNo</th>\n",
       "      <th></th>\n",
       "      <th></th>\n",
       "      <th></th>\n",
       "      <th></th>\n",
       "      <th></th>\n",
       "      <th></th>\n",
       "      <th></th>\n",
       "      <th></th>\n",
       "    </tr>\n",
       "  </thead>\n",
       "  <tbody>\n",
       "    <tr>\n",
       "      <th>1</th>\n",
       "      <td>01/22/2020</td>\n",
       "      <td>Anhui</td>\n",
       "      <td>mainland china</td>\n",
       "      <td>1/22/2020 17:00</td>\n",
       "      <td>1.0</td>\n",
       "      <td>0.0</td>\n",
       "      <td>0.0</td>\n",
       "      <td>0.0</td>\n",
       "    </tr>\n",
       "    <tr>\n",
       "      <th>2</th>\n",
       "      <td>01/22/2020</td>\n",
       "      <td>Beijing</td>\n",
       "      <td>mainland china</td>\n",
       "      <td>1/22/2020 17:00</td>\n",
       "      <td>14.0</td>\n",
       "      <td>0.0</td>\n",
       "      <td>0.0</td>\n",
       "      <td>0.0</td>\n",
       "    </tr>\n",
       "    <tr>\n",
       "      <th>3</th>\n",
       "      <td>01/22/2020</td>\n",
       "      <td>Chongqing</td>\n",
       "      <td>mainland china</td>\n",
       "      <td>1/22/2020 17:00</td>\n",
       "      <td>6.0</td>\n",
       "      <td>0.0</td>\n",
       "      <td>0.0</td>\n",
       "      <td>0.0</td>\n",
       "    </tr>\n",
       "    <tr>\n",
       "      <th>4</th>\n",
       "      <td>01/22/2020</td>\n",
       "      <td>Fujian</td>\n",
       "      <td>mainland china</td>\n",
       "      <td>1/22/2020 17:00</td>\n",
       "      <td>1.0</td>\n",
       "      <td>0.0</td>\n",
       "      <td>0.0</td>\n",
       "      <td>0.0</td>\n",
       "    </tr>\n",
       "    <tr>\n",
       "      <th>5</th>\n",
       "      <td>01/22/2020</td>\n",
       "      <td>Gansu</td>\n",
       "      <td>mainland china</td>\n",
       "      <td>1/22/2020 17:00</td>\n",
       "      <td>0.0</td>\n",
       "      <td>0.0</td>\n",
       "      <td>0.0</td>\n",
       "      <td>inf</td>\n",
       "    </tr>\n",
       "  </tbody>\n",
       "</table>\n",
       "</div>"
      ],
      "text/plain": [
       "    ObservationDate Province/State  Country/Region      Last Update  \\\n",
       "SNo                                                                   \n",
       "1        01/22/2020          Anhui  mainland china  1/22/2020 17:00   \n",
       "2        01/22/2020        Beijing  mainland china  1/22/2020 17:00   \n",
       "3        01/22/2020      Chongqing  mainland china  1/22/2020 17:00   \n",
       "4        01/22/2020         Fujian  mainland china  1/22/2020 17:00   \n",
       "5        01/22/2020          Gansu  mainland china  1/22/2020 17:00   \n",
       "\n",
       "     Confirmed  Deaths  Recovered  Proportion  \n",
       "SNo                                            \n",
       "1          1.0     0.0        0.0         0.0  \n",
       "2         14.0     0.0        0.0         0.0  \n",
       "3          6.0     0.0        0.0         0.0  \n",
       "4          1.0     0.0        0.0         0.0  \n",
       "5          0.0     0.0        0.0         inf  "
      ]
     },
     "execution_count": 44,
     "metadata": {},
     "output_type": "execute_result"
    }
   ],
   "source": [
    "df = df.fillna(df.mean())\n",
    "df.head()"
   ]
  },
  {
   "cell_type": "markdown",
   "metadata": {},
   "source": [
    "Vejamos novamente como estamos com nossos dados faltantes:"
   ]
  },
  {
   "cell_type": "code",
   "execution_count": 45,
   "metadata": {},
   "outputs": [
    {
     "data": {
      "text/plain": [
       "ObservationDate    0\n",
       "Province/State     0\n",
       "Country/Region     0\n",
       "Last Update        0\n",
       "Confirmed          0\n",
       "Deaths             0\n",
       "Recovered          0\n",
       "Proportion         0\n",
       "dtype: int64"
      ]
     },
     "execution_count": 45,
     "metadata": {},
     "output_type": "execute_result"
    }
   ],
   "source": [
    "df.isna().sum()"
   ]
  },
  {
   "cell_type": "markdown",
   "metadata": {},
   "source": [
    "Agora não temos mais valores nulos no nosso Dataframe!"
   ]
  },
  {
   "cell_type": "markdown",
   "metadata": {},
   "source": [
    "### Plot\n",
    "Utilizando a própria biblioteca Pandas podemos plotar alguns gráficos com os dados do DataFrame. Os métodos que nos permitem utilizar tal funcionalidade são feitos com base na biblioteca Matplotlib. Tal biblioteca é mais completa e mais eficiente, mas falaremos mais sobre ela na próxima aula. Por enquanto continuaremos utilizando Pandas, que tem uma sintaxe simples para necessidades iniciais.  \n",
    "\n",
    "Todos os gráficos podem ser utilizado com o atributo **plot**, seguido pelo tipo de gráfico desejado. Vejamos abaixo alguns deles."
   ]
  },
  {
   "cell_type": "markdown",
   "metadata": {},
   "source": [
    "**Histograma**\n",
    "\n",
    "Podemos observar a distribuição dos dados utilizando um histograma. Vejamos a distribuição da contagem das frequências de cada Provincia/Estado:"
   ]
  },
  {
   "cell_type": "code",
   "execution_count": 46,
   "metadata": {},
   "outputs": [
    {
     "data": {
      "text/plain": [
       "<matplotlib.axes._subplots.AxesSubplot at 0x7f79e6c2e650>"
      ]
     },
     "execution_count": 46,
     "metadata": {},
     "output_type": "execute_result"
    },
    {
     "data": {
      "image/png": "[encoded data removed]",
      "text/plain": [
       "<Figure size 432x288 with 1 Axes>"
      ]
     },
     "metadata": {
      "needs_background": "light"
     },
     "output_type": "display_data"
    }
   ],
   "source": [
    "df['Province/State'].value_counts().plot.hist()"
   ]
  },
  {
   "cell_type": "markdown",
   "metadata": {},
   "source": [
    "**Gráfico de barra**\n",
    "\n",
    "Um gráfico com barras proporcionais aos valores que são representados em seus eixos. Aqui temos os 10 países/regiões mais frequentes."
   ]
  },
  {
   "cell_type": "code",
   "execution_count": 47,
   "metadata": {},
   "outputs": [
    {
     "data": {
      "text/plain": [
       "<matplotlib.axes._subplots.AxesSubplot at 0x7f79e5b45d90>"
      ]
     },
     "execution_count": 47,
     "metadata": {},
     "output_type": "execute_result"
    },
    {
     "data": {
      "image/png": "[encoded data removed]",
      "text/plain": [
       "<Figure size 432x288 with 1 Axes>"
      ]
     },
     "metadata": {
      "needs_background": "light"
     },
     "output_type": "display_data"
    }
   ],
   "source": [
    "df['Country/Region'].value_counts()[:10].plot.bar()"
   ]
  },
  {
   "cell_type": "markdown",
   "metadata": {},
   "source": [
    "**Gráfico de barra horizontal**\n",
    "\n",
    "Mesma ideia do gráfico anterior, mas com as barras horizontais."
   ]
  },
  {
   "cell_type": "code",
   "execution_count": 48,
   "metadata": {},
   "outputs": [
    {
     "data": {
      "text/plain": [
       "<matplotlib.axes._subplots.AxesSubplot at 0x7f79e5b08410>"
      ]
     },
     "execution_count": 48,
     "metadata": {},
     "output_type": "execute_result"
    },
    {
     "data": {
      "image/png": "[encoded data removed]",
      "text/plain": [
       "<Figure size 432x288 with 1 Axes>"
      ]
     },
     "metadata": {
      "needs_background": "light"
     },
     "output_type": "display_data"
    }
   ],
   "source": [
    "df['Country/Region'].value_counts()[:10].plot.barh()"
   ]
  },
  {
   "cell_type": "markdown",
   "metadata": {},
   "source": [
    "**Scatter Plot**\n",
    "\n",
    "Os gráficos de dispersão são utilizados para analisar a relação entre duas variáveis. Vemos, por exemplo, que conforme o número de casos confirmados cresce, o número de casos recuperados também o faz. "
   ]
  },
  {
   "cell_type": "code",
   "execution_count": 49,
   "metadata": {},
   "outputs": [
    {
     "data": {
      "text/plain": [
       "<matplotlib.axes._subplots.AxesSubplot at 0x7f79e59d89d0>"
      ]
     },
     "execution_count": 49,
     "metadata": {},
     "output_type": "execute_result"
    },
    {
     "data": {
      "image/png": "[encoded data removed]",
      "text/plain": [
       "<Figure size 432x288 with 1 Axes>"
      ]
     },
     "metadata": {
      "needs_background": "light"
     },
     "output_type": "display_data"
    }
   ],
   "source": [
    "df.plot.scatter(x = 'Confirmed', y = 'Recovered')"
   ]
  },
  {
   "cell_type": "markdown",
   "metadata": {},
   "source": [
    "**Pie Plot**\n",
    "\n",
    "Gráficos de pizza são representações proporcionais de dados numéricos. Aqui vemos, dentre os 10 países/regiões mais frequentes, qual a proporção de cada um deles no total."
   ]
  },
  {
   "cell_type": "code",
   "execution_count": 50,
   "metadata": {},
   "outputs": [
    {
     "data": {
      "text/plain": [
       "<matplotlib.axes._subplots.AxesSubplot at 0x7f79e59782d0>"
      ]
     },
     "execution_count": 50,
     "metadata": {},
     "output_type": "execute_result"
    },
    {
     "data": {
      "image/png": "[encoded data removed]",
      "text/plain": [
       "<Figure size 432x288 with 1 Axes>"
      ]
     },
     "metadata": {},
     "output_type": "display_data"
    }
   ],
   "source": [
    "df['Country/Region'].value_counts()[:10].plot.pie()"
   ]
  },
  {
   "cell_type": "markdown",
   "metadata": {},
   "source": [
    "### Exportação\n",
    "Assim como lemos os dados de um arquivo, é possível salvar o dataframe criado/modificado num arquivo também. Algumas das possíveis funções são:\n",
    "\n",
    "- [to_csv](https://pandas.pydata.org/pandas-docs/stable/reference/api/pandas.DataFrame.to_csv.html): exporta o arquivo no formato CSV.\n",
    "- [to_excel](https://pandas.pydata.org/pandas-docs/stable/reference/api/pandas.DataFrame.to_excel.html): exporta o arquivo como uma planilha Excel.\n",
    "- [to_json](https://pandas.pydata.org/pandas-docs/stable/reference/api/pandas.DataFrame.to_json.html): exporta o arquivo como o Json.\n",
    "- [to_latex](https://pandas.pydata.org/pandas-docs/stable/reference/api/pandas.DataFrame.to_latex.html): exporta o arquivo para Latex."
   ]
  },
  {
   "cell_type": "code",
   "execution_count": 51,
   "metadata": {},
   "outputs": [],
   "source": [
    "df.to_csv('covid_after.csv', sep = ',')"
   ]
  },
  {
   "cell_type": "markdown",
   "metadata": {},
   "source": [
    "## Exercícios\n",
    "\n",
    "Os exercícios da aula podem ser encontrados [aqui](https://github.com/icmc-data/Intro-DS-2020.1/blob/master/Aula2/introducao_pandas.ipynb)."
   ]
  },
  {
   "cell_type": "markdown",
   "metadata": {},
   "source": [
    "## Conclusão\n",
    "\n",
    "Vimos na aula de hoje várias funcionalidades e sintaxes da biblioteca Pandas. Essa biblioteca é bem extensa e possui muuuuuitas funções legais. Recomendamos que façam os exercícios passados e que vejam a documentação das funções que acharem interessantes, pois cada uma delas tem suas próprias especificidades.  \n",
    "\n",
    "Feedbacks e dúvidas são super bem vindos! Espero que tenham aprendido com essa aula, e sintam-se a vontade para conversar conosco sobre quaisquer dúvidas e curiosidades. o/"
   ]
  },
  {
   "cell_type": "markdown",
   "metadata": {},
   "source": [
    "## Referências\n",
    "\n",
    "- [10 minutes to Pandas](https://pandas.pydata.org/pandas-docs/stable/getting_started/10min.html)\n",
    "- [Uma introdução simples ao Pandas](https://medium.com/data-hackers/uma-introdu%C3%A7%C3%A3o-simples-ao-pandas-1e15eea37fa1)\n",
    "- [Documentação Pandas](https://pandas.pydata.org/docs/)\n",
    "- [Dataset Original - Kaggle](https://www.kaggle.com/sudalairajkumar/novel-corona-virus-2019-dataset)"
   ]
  },
  {
   "cell_type": "markdown",
   "metadata": {},
   "source": [
    "## Dúvidas?"
   ]
  },
  {
   "cell_type": "markdown",
   "metadata": {},
   "source": [
    "Caso algo não tenha ficado, sintam-se à vontade para entrar em contato conosco por meio do canal do Slack ou pelo telegram! "
   ]
  },
  {
   "cell_type": "code",
   "execution_count": null,
   "metadata": {},
   "outputs": [],
   "source": []
  }
 ],
 "metadata": {
  "kernelspec": {
   "display_name": "Python 3",
   "language": "python",
   "name": "python3"
  },
  "language_info": {
   "codemirror_mode": {
    "name": "ipython",
    "version": 3
   },
   "file_extension": ".py",
   "mimetype": "text/x-python",
   "name": "python",
   "nbconvert_exporter": "python",
   "pygments_lexer": "ipython3",
   "version": "3.7.6"
  },
  "toc": {
   "base_numbering": 1,
   "nav_menu": {},
   "number_sections": true,
   "sideBar": true,
   "skip_h1_title": false,
   "title_cell": "Table of Contents",
   "title_sidebar": "Contents",
   "toc_cell": false,
   "toc_position": {},
   "toc_section_display": true,
   "toc_window_display": false
  }
 },
 "nbformat": 4,
 "nbformat_minor": 2
}
